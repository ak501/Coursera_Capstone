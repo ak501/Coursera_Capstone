{
 "cells": [
  {
   "cell_type": "markdown",
   "metadata": {},
   "source": [
    "# A DISTRICT RECOMMENDER\n",
    "_by George Lekkas_ <p>\n",
    "Please note the text commentary in this notebook is a subset of the full contents of the Project Report\n",
    "    \n",
    "### Table of Contents\n",
    "* [Introduction: Business Problem](#Introduction)\n",
    "* [Data](#Data)\n",
    "    * [District Data](#District_Data)\n",
    "    * [Geocoding](#Geocoding)\n",
    "    * [Venue Data](#Venue_Data)\n",
    "    * [Venue Classification](#Venue_Classification)\n",
    "    * [User Preferences](#User_Preferences)\n",
    "* [Methodology](#Methodology)\n",
    "* [Analysis](#Analysis)\n",
    "    * [Transform Data](#Transform_Data)\n",
    "    * [Extract Data](#Extract_Data)\n",
    "    * [Calculate User Profile](#Calculate_User_Profile)\n",
    "    * [Assign Score to Each District](#Assign_Score_To_Each_District)\n",
    "    * [Propose Best Recommendation](#Propose_Best_Recommendation)"
   ]
  },
  {
   "cell_type": "markdown",
   "metadata": {},
   "source": [
    "# 1. Introduction / Business Problem<a name=\"Introduction\"></a>\n",
    "Anyone having to move to a new city for work or studies must decide where to stay. The new “District Recommender” service comes to support such decisions with objective data.<p>\n",
    "Users interested in the new “District Recommender” service may be workers who accepted job offers that require their relocating to a new city, or students who are about to start their first year in a University. They will declare their preferences in terms of areas in cities they have visited and enjoyed in the past.<p>\n",
    "The service will be successful if it can produce neighborhood recommendations for new destinations that are compatible with a user’s prior preferences. The new system will be tested by evaluating its recommendations on a small number of cities."
   ]
  },
  {
   "cell_type": "markdown",
   "metadata": {},
   "source": [
    "# 2. Data<a name=\"Data\"></a>\n",
    "The District Recommender service will supports mobility of young workers or students in many countries. To start with, the system will be developed and tested with three popular destination cities: \n",
    "-\tLondon, England;\n",
    "-\tGlasgow, Scotland;\n",
    "-\tCopenhagen, Denmark. \n"
   ]
  },
  {
   "cell_type": "markdown",
   "metadata": {},
   "source": [
    "## 2.1 District data<a name=\"District_Data\"></a>\n",
    "The District Recommender service wil\n",
    "Our neighborhoods in each city will be defined by partially aggregated postcodes; popular, coarse-grained subdivisions that define entire boroughs. We will not use the detailed postcode used to define specific streets or even single buildings in the UK or Denmark. So, in the UK we will use the postal district ‘EC2’ (Bishopsgate), not the full postcode ‘EC2M 4NR’, of which there are 1.7 million in the UK.\n",
    "\n",
    "Care must be taken to eliminate any districts that are not residential but are used for mail distribution purposes.\n",
    "The easiest way to obtain the postcodes is to scrape them from web sites such as Wikipedia.\n"
   ]
  },
  {
   "cell_type": "code",
   "execution_count": 4729,
   "metadata": {},
   "outputs": [],
   "source": [
    "import pandas as pd\n",
    "import numpy as np\n",
    "\n",
    "# Get the latest version of BeautifulSoup and use XML parser for speed\n",
    "#!pip install beautifulsoup4\n",
    "from bs4 import BeautifulSoup\n",
    "from lxml import html\n",
    "import requests\n",
    "\n",
    "# Submit a User-Agent header, else the connection is refused by the Wikipedia server\n",
    "headers={\n",
    "'User-Agent': 'Mozilla/5.0 (Macintosh; Intel Mac OS X 10_15_0) AppleWebKit/537.36 (KHTML, like Gecko) Chrome/75.0.3770.142 Safari/537.36'\n",
    "}"
   ]
  },
  {
   "cell_type": "markdown",
   "metadata": {},
   "source": [
    "### 2.1.1 London district data"
   ]
  },
  {
   "cell_type": "markdown",
   "metadata": {},
   "source": [
    "Read the Web page"
   ]
  },
  {
   "cell_type": "code",
   "execution_count": 4730,
   "metadata": {},
   "outputs": [],
   "source": [
    "# The list of London postal districts\n",
    "url_london=\"https://www.doogal.co.uk/london_postcodes.php\"\n",
    "\n",
    "# GET request fetches the raw HTML content\n",
    "html_content_london = requests.get(url_london).text\n",
    "\n",
    "# Parse the html content, skipping useless part in the beginning\n",
    "start = html_content_london.find('Download ')\n",
    "soup_london = BeautifulSoup(html_content_london[start:], \"lxml\")"
   ]
  },
  {
   "cell_type": "markdown",
   "metadata": {},
   "source": [
    "Put data in a dictionary for each table row, of the form {'District_code': '', 'District_name': ''} <br> This will prove useful when we want to use logic to exclude records, change values etc."
   ]
  },
  {
   "cell_type": "code",
   "execution_count": 4731,
   "metadata": {},
   "outputs": [],
   "source": [
    "import re\n",
    "london_data = []\n",
    "# Postal districts are some of the clickable hyperlinks, select them via a regular expression\n",
    "# Parse district code and description\n",
    "html_districts = soup_london.find_all(\"a\", href=re.compile(\"UKPostcodes.php\"))\n",
    "for tag in html_districts:\n",
    "    t_row = {}\n",
    "    text = tag.text.split(':')\n",
    "    t_row['District_code'] = text[0]\n",
    "    if len(text) > 1:\n",
    "        t_row['District_name'] = text[1].lstrip()\n",
    "    else:\n",
    "        t_row['District_name'] = text[0]  # The web page we scrape is ill-formed for some central districts \n",
    "    \n",
    "    london_data.append(t_row)"
   ]
  },
  {
   "cell_type": "markdown",
   "metadata": {},
   "source": [
    "Convert into dataframe. All districts correspond to real locations, no special postal service codes in this Web page"
   ]
  },
  {
   "cell_type": "code",
   "execution_count": 4732,
   "metadata": {},
   "outputs": [
    {
     "data": {
      "text/html": [
       "<div>\n",
       "<style scoped>\n",
       "    .dataframe tbody tr th:only-of-type {\n",
       "        vertical-align: middle;\n",
       "    }\n",
       "\n",
       "    .dataframe tbody tr th {\n",
       "        vertical-align: top;\n",
       "    }\n",
       "\n",
       "    .dataframe thead th {\n",
       "        text-align: right;\n",
       "    }\n",
       "</style>\n",
       "<table border=\"1\" class=\"dataframe\">\n",
       "  <thead>\n",
       "    <tr style=\"text-align: right;\">\n",
       "      <th></th>\n",
       "      <th>District_code</th>\n",
       "      <th>District_name</th>\n",
       "    </tr>\n",
       "  </thead>\n",
       "  <tbody>\n",
       "    <tr>\n",
       "      <th>160</th>\n",
       "      <td>IG</td>\n",
       "      <td>Ilford</td>\n",
       "    </tr>\n",
       "    <tr>\n",
       "      <th>161</th>\n",
       "      <td>KT</td>\n",
       "      <td>Kingston</td>\n",
       "    </tr>\n",
       "    <tr>\n",
       "      <th>162</th>\n",
       "      <td>RM</td>\n",
       "      <td>Romford</td>\n",
       "    </tr>\n",
       "    <tr>\n",
       "      <th>163</th>\n",
       "      <td>SM</td>\n",
       "      <td>Sutton</td>\n",
       "    </tr>\n",
       "    <tr>\n",
       "      <th>164</th>\n",
       "      <td>TW</td>\n",
       "      <td>Twickenham</td>\n",
       "    </tr>\n",
       "    <tr>\n",
       "      <th>165</th>\n",
       "      <td>UB</td>\n",
       "      <td>Uxbridge</td>\n",
       "    </tr>\n",
       "    <tr>\n",
       "      <th>166</th>\n",
       "      <td>WD</td>\n",
       "      <td>Watford</td>\n",
       "    </tr>\n",
       "  </tbody>\n",
       "</table>\n",
       "</div>"
      ],
      "text/plain": [
       "    District_code District_name\n",
       "160            IG        Ilford\n",
       "161            KT      Kingston\n",
       "162            RM       Romford\n",
       "163            SM        Sutton\n",
       "164            TW    Twickenham\n",
       "165            UB      Uxbridge\n",
       "166            WD       Watford"
      ]
     },
     "execution_count": 4732,
     "metadata": {},
     "output_type": "execute_result"
    }
   ],
   "source": [
    "london_df = pd.DataFrame(london_data)\n",
    "london_df.tail(7)"
   ]
  },
  {
   "cell_type": "code",
   "execution_count": 4733,
   "metadata": {},
   "outputs": [
    {
     "name": "stdout",
     "output_type": "stream",
     "text": [
      "There are 167 districts in London\n"
     ]
    }
   ],
   "source": [
    "print(\"There are\", len(london_df), \"districts in London\")"
   ]
  },
  {
   "cell_type": "markdown",
   "metadata": {},
   "source": [
    "### 2.1.1 Glasgow district data\n",
    "Read the Web page"
   ]
  },
  {
   "cell_type": "code",
   "execution_count": 4734,
   "metadata": {},
   "outputs": [],
   "source": [
    "# The list of Glasgow postal districts\n",
    "url_glasgow=\"https://en.wikipedia.org/wiki/G_postcode_area\"\n",
    "\n",
    "# GET request fetches the raw HTML content\n",
    "html_content_glasgow = requests.get(url_glasgow).text\n",
    "\n",
    "# Parse the html content, try to locate the area of interest \n",
    "start = html_content_glasgow.find('approximate coverage')\n",
    "soup_glasgow = BeautifulSoup(html_content_glasgow[start:], \"lxml\")"
   ]
  },
  {
   "cell_type": "markdown",
   "metadata": {},
   "source": [
    "Parse data and place them in a dictionary"
   ]
  },
  {
   "cell_type": "code",
   "execution_count": 4735,
   "metadata": {},
   "outputs": [],
   "source": [
    "glasgow_data = []\n",
    "# Parse district code and description\n",
    "html_districts = soup_glasgow.tbody.find_all(\"tr\")\n",
    "for tag in html_districts:\n",
    "    t_row = {}\n",
    "    t_row['District_code'] = tag.th.text.rstrip()\n",
    "    col_idx = 0\n",
    "    for cell in tag.find_all('td'):\n",
    "        text = cell.text\n",
    "        # The 3rd column is the 2nd <td> element due to the table formatting\n",
    "        if col_idx == 1:\n",
    "            text = cell.text.split(':')\n",
    "            # some cells have text that should be stripped before the columns, others not\n",
    "            if len(text) > 1:\n",
    "                t_row['District_name'] = text[1].rstrip().lstrip()\n",
    "            else:\n",
    "                t_row['District_name'] = text[0].rstrip()\n",
    "                   \n",
    "        # local authority area\n",
    "        if col_idx == 2:\n",
    "            t_row['Local_authority_area'] = cell.text.rstrip()\n",
    "        \n",
    "        col_idx = col_idx + 1\n",
    "    \n",
    "\n",
    "    glasgow_data.append(t_row)"
   ]
  },
  {
   "cell_type": "code",
   "execution_count": 4736,
   "metadata": {},
   "outputs": [
    {
     "data": {
      "text/plain": [
       "[{'District_code': 'Postcode district'},\n",
       " {'District_code': 'G1',\n",
       "  'District_name': 'Merchant City',\n",
       "  'Local_authority_area': 'Glasgow City'}]"
      ]
     },
     "execution_count": 4736,
     "metadata": {},
     "output_type": "execute_result"
    }
   ],
   "source": [
    "glasgow_data[0:2]"
   ]
  },
  {
   "cell_type": "markdown",
   "metadata": {},
   "source": [
    "Convert into dataframe. Must drop the non-geographic postcodes"
   ]
  },
  {
   "cell_type": "code",
   "execution_count": 4737,
   "metadata": {},
   "outputs": [
    {
     "data": {
      "text/html": [
       "<div>\n",
       "<style scoped>\n",
       "    .dataframe tbody tr th:only-of-type {\n",
       "        vertical-align: middle;\n",
       "    }\n",
       "\n",
       "    .dataframe tbody tr th {\n",
       "        vertical-align: top;\n",
       "    }\n",
       "\n",
       "    .dataframe thead th {\n",
       "        text-align: right;\n",
       "    }\n",
       "</style>\n",
       "<table border=\"1\" class=\"dataframe\">\n",
       "  <thead>\n",
       "    <tr style=\"text-align: right;\">\n",
       "      <th></th>\n",
       "      <th>District_code</th>\n",
       "      <th>District_name</th>\n",
       "    </tr>\n",
       "  </thead>\n",
       "  <tbody>\n",
       "    <tr>\n",
       "      <th>1</th>\n",
       "      <td>G1</td>\n",
       "      <td>Merchant City</td>\n",
       "    </tr>\n",
       "    <tr>\n",
       "      <th>2</th>\n",
       "      <td>G2</td>\n",
       "      <td>Blythswood Hill, Anderston (part)</td>\n",
       "    </tr>\n",
       "    <tr>\n",
       "      <th>3</th>\n",
       "      <td>G3</td>\n",
       "      <td>Anderston, Finnieston, Garnethill, Park, Woodl...</td>\n",
       "    </tr>\n",
       "    <tr>\n",
       "      <th>4</th>\n",
       "      <td>G4</td>\n",
       "      <td>Calton (part), Cowcaddens (part), Drygate, Kel...</td>\n",
       "    </tr>\n",
       "    <tr>\n",
       "      <th>5</th>\n",
       "      <td>G5</td>\n",
       "      <td>Gorbals</td>\n",
       "    </tr>\n",
       "    <tr>\n",
       "      <th>7</th>\n",
       "      <td>G11</td>\n",
       "      <td>Broomhill, Partick, Partickhill</td>\n",
       "    </tr>\n",
       "    <tr>\n",
       "      <th>8</th>\n",
       "      <td>G12</td>\n",
       "      <td>West End (part), Cleveden, Dowanhill, Hillhead...</td>\n",
       "    </tr>\n",
       "    <tr>\n",
       "      <th>9</th>\n",
       "      <td>G13</td>\n",
       "      <td>Anniesland, Knightswood, Yoker</td>\n",
       "    </tr>\n",
       "    <tr>\n",
       "      <th>10</th>\n",
       "      <td>G14</td>\n",
       "      <td>Whiteinch, Scotstoun</td>\n",
       "    </tr>\n",
       "    <tr>\n",
       "      <th>11</th>\n",
       "      <td>G15</td>\n",
       "      <td>Drumchapel</td>\n",
       "    </tr>\n",
       "  </tbody>\n",
       "</table>\n",
       "</div>"
      ],
      "text/plain": [
       "   District_code                                      District_name\n",
       "1             G1                                      Merchant City\n",
       "2             G2                  Blythswood Hill, Anderston (part)\n",
       "3             G3  Anderston, Finnieston, Garnethill, Park, Woodl...\n",
       "4             G4  Calton (part), Cowcaddens (part), Drygate, Kel...\n",
       "5             G5                                            Gorbals\n",
       "7            G11                    Broomhill, Partick, Partickhill\n",
       "8            G12  West End (part), Cleveden, Dowanhill, Hillhead...\n",
       "9            G13                     Anniesland, Knightswood, Yoker\n",
       "10           G14                               Whiteinch, Scotstoun\n",
       "11           G15                                         Drumchapel"
      ]
     },
     "execution_count": 4737,
     "metadata": {},
     "output_type": "execute_result"
    }
   ],
   "source": [
    "glasgow_df = pd.DataFrame(glasgow_data)\n",
    "\n",
    "# drop empty initial row\n",
    "glasgow_df.dropna(inplace=True)\n",
    "\n",
    "# drop non geographic destinations\n",
    "glasgow_df = glasgow_df[glasgow_df['Local_authority_area']!='non-geographic']\n",
    "\n",
    "# Now we don't need that column anymore\n",
    "glasgow_df.drop('Local_authority_area', axis=1, inplace=True)\n",
    "\n",
    "glasgow_df.head(10)"
   ]
  },
  {
   "cell_type": "code",
   "execution_count": 4738,
   "metadata": {},
   "outputs": [
    {
     "name": "stdout",
     "output_type": "stream",
     "text": [
      "There are 51 postcodes in Glasgow\n"
     ]
    }
   ],
   "source": [
    "print(\"There are\", len(glasgow_df), \"postcodes in Glasgow\")"
   ]
  },
  {
   "cell_type": "markdown",
   "metadata": {},
   "source": [
    "### 2.1.3 Copenhagen district data\n",
    "Read the Web page"
   ]
  },
  {
   "cell_type": "code",
   "execution_count": 4739,
   "metadata": {},
   "outputs": [],
   "source": [
    "# The list of Copenhagen postal districts\n",
    "url_copenhagen=\"https://en.wikipedia.org/wiki/List_of_postal_codes_in_Denmark\"\n",
    "\n",
    "# GET request fetches the raw HTML content\n",
    "html_content_copenhagen = requests.get(url_copenhagen).text\n",
    "\n",
    "# Parse the html content, try to locate the area of interest \n",
    "start = html_content_copenhagen.find('mw-headline')\n",
    "end = html_content_copenhagen.find('List_of_postal_codes_in_Europe') \n",
    "soup_copenhagen = BeautifulSoup(html_content_copenhagen[start:end], \"lxml\")"
   ]
  },
  {
   "cell_type": "markdown",
   "metadata": {},
   "source": [
    "Insert it into a dictionary"
   ]
  },
  {
   "cell_type": "code",
   "execution_count": 4740,
   "metadata": {},
   "outputs": [],
   "source": [
    "copenhagen_data = []\n",
    "html_districts = soup_copenhagen.find_all(\"li\")\n",
    "for tag in html_districts:\n",
    "    t_row = {}\n",
    "    text = tag.text.split(' -')\n",
    "    t_row['District_code'] = text[0].rstrip()\n",
    "    if len(text) > 1:\n",
    "        t_row['District_name'] = text[1].lstrip()\n",
    "    else:\n",
    "        t_row['District_name'] = text[0]\n",
    "    \n",
    "    copenhagen_data.append(t_row)"
   ]
  },
  {
   "cell_type": "code",
   "execution_count": 4741,
   "metadata": {},
   "outputs": [
    {
     "data": {
      "text/plain": [
       "[{'District_code': '1000-1499', 'District_name': 'Copenhagen K'},\n",
       " {'District_code': '1500-1799', 'District_name': 'Copenhagen V'}]"
      ]
     },
     "execution_count": 4741,
     "metadata": {},
     "output_type": "execute_result"
    }
   ],
   "source": [
    "copenhagen_data[0:2]"
   ]
  },
  {
   "cell_type": "markdown",
   "metadata": {},
   "source": [
    "Convert into dataframe. The Web page lists all Denmark codes, we must drop postcodes outside Copenhagen, i.e. greater or equal to 3000"
   ]
  },
  {
   "cell_type": "code",
   "execution_count": 4742,
   "metadata": {},
   "outputs": [
    {
     "data": {
      "text/html": [
       "<div>\n",
       "<style scoped>\n",
       "    .dataframe tbody tr th:only-of-type {\n",
       "        vertical-align: middle;\n",
       "    }\n",
       "\n",
       "    .dataframe tbody tr th {\n",
       "        vertical-align: top;\n",
       "    }\n",
       "\n",
       "    .dataframe thead th {\n",
       "        text-align: right;\n",
       "    }\n",
       "</style>\n",
       "<table border=\"1\" class=\"dataframe\">\n",
       "  <thead>\n",
       "    <tr style=\"text-align: right;\">\n",
       "      <th></th>\n",
       "      <th>District_code</th>\n",
       "      <th>District_name</th>\n",
       "    </tr>\n",
       "  </thead>\n",
       "  <tbody>\n",
       "    <tr>\n",
       "      <th>0</th>\n",
       "      <td>1000-1499</td>\n",
       "      <td>Copenhagen K</td>\n",
       "    </tr>\n",
       "    <tr>\n",
       "      <th>1</th>\n",
       "      <td>1500-1799</td>\n",
       "      <td>Copenhagen V</td>\n",
       "    </tr>\n",
       "    <tr>\n",
       "      <th>2</th>\n",
       "      <td>1800-1999</td>\n",
       "      <td>Frederiksberg C</td>\n",
       "    </tr>\n",
       "    <tr>\n",
       "      <th>3</th>\n",
       "      <td>2000</td>\n",
       "      <td>Frederiksberg</td>\n",
       "    </tr>\n",
       "    <tr>\n",
       "      <th>4</th>\n",
       "      <td>2100</td>\n",
       "      <td>Copenhagen Ø</td>\n",
       "    </tr>\n",
       "    <tr>\n",
       "      <th>5</th>\n",
       "      <td>2150</td>\n",
       "      <td>Nordhavn</td>\n",
       "    </tr>\n",
       "  </tbody>\n",
       "</table>\n",
       "</div>"
      ],
      "text/plain": [
       "  District_code    District_name\n",
       "0     1000-1499     Copenhagen K\n",
       "1     1500-1799     Copenhagen V\n",
       "2     1800-1999  Frederiksberg C\n",
       "3          2000    Frederiksberg\n",
       "4          2100     Copenhagen Ø\n",
       "5          2150         Nordhavn"
      ]
     },
     "execution_count": 4742,
     "metadata": {},
     "output_type": "execute_result"
    }
   ],
   "source": [
    "copenhagen_df = pd.DataFrame(copenhagen_data)\n",
    "\n",
    "# drop empty initial row\n",
    "#copenhagen_df.dropna(inplace=True)\n",
    "\n",
    "# drop all codes outside Copenhagen, Federiksberg and vicinity\n",
    "copenhagen_df = copenhagen_df[copenhagen_df['District_code'] < '3000']\n",
    "\n",
    "# drop Santa Claus, Greenland post code\n",
    "copenhagen_df = copenhagen_df[copenhagen_df['District_code'] != '2412']\n",
    "\n",
    "copenhagen_df.head(6)"
   ]
  },
  {
   "cell_type": "code",
   "execution_count": 4743,
   "metadata": {},
   "outputs": [
    {
     "name": "stdout",
     "output_type": "stream",
     "text": [
      "There are 51 postcodes in Copenhagen\n"
     ]
    }
   ],
   "source": [
    "print(\"There are\", len(copenhagen_df), \"postcodes in Copenhagen\")"
   ]
  },
  {
   "cell_type": "markdown",
   "metadata": {},
   "source": [
    "## 2.2 Geocoding<a name=\"Geocoding\"></a>\n",
    "Now we need geocoding information for all the districts that we will use later. We define a function that can query a geocoding service and return the results as a series"
   ]
  },
  {
   "cell_type": "code",
   "execution_count": 4744,
   "metadata": {},
   "outputs": [],
   "source": [
    "#!pip install geocoder\n",
    "import time\n",
    "import geocoder\n",
    "\n",
    "# Query a geocoding service about district codes related to a city \n",
    "# Input data is in a 'District_code' column of a dataframe\n",
    "# In the end the dataframe is augmented \n",
    "def geocode_dataframe(df, city):\n",
    "\n",
    "    latitudes = []\n",
    "    longitudes = []\n",
    "    print('Obtaining location addresses for {}: '.format(city), end='')\n",
    "    for postal_code in df['District_code']:\n",
    "        lat_lng_coords = None\n",
    "        # loop until you get the coordinates\n",
    "        while(lat_lng_coords is None):\n",
    "            g = geocoder.arcgis('{}, {}'.format(postal_code, city))\n",
    "            lat_lng_coords = g.latlng\n",
    "            #print(postal_code, \" returned lat =\", g.lat)\n",
    "            time.sleep(3)\n",
    "        print(' .', end='')\n",
    "        latitudes.append(lat_lng_coords[0])\n",
    "        longitudes.append(lat_lng_coords[1])\n",
    "    \n",
    "    print(' done.')\n",
    "\n",
    "    return latitudes, longitudes"
   ]
  },
  {
   "cell_type": "markdown",
   "metadata": {},
   "source": [
    "Obtain geocoding information for all test cities. To allow for repeated tests without problems on the limit of API calls per day, the data is saved to local files and read from there."
   ]
  },
  {
   "cell_type": "code",
   "execution_count": 4745,
   "metadata": {},
   "outputs": [],
   "source": [
    "online_geocoding = False\n",
    "\n",
    "# Suppress warning, we are indeed using the correct assignment method\n",
    "pd.set_option('mode.chained_assignment', None)\n",
    "\n",
    "if online_geocoding:\n",
    "    london_df.loc[:,'Latitude'], london_df.loc[:,'Longitude'] = geocode_dataframe(london_df, \"London, England\")\n",
    "    glasgow_df.loc[:,'Latitude'], glasgow_df.loc[:,'Longitude'] = geocode_dataframe(glasgow_df, \"Glasgow, Scotland\")\n",
    "    copenhagen_df.loc[:,'Latitude'], copenhagen_df.loc[:,'Longitude'] = geocode_dataframe(copenhagen_df, \"Copenhagen, Denmark\")\n",
    "else:\n",
    "    london_df = pd.read_csv('London_districts_geocoded.csv')\n",
    "    glasgow_df = pd.read_csv('Glasgow_districts_geocoded.csv') \n",
    "    copenhagen_df = pd.read_csv('Copenhagen_districts_geocoded.csv') \n",
    "    \n",
    "pd.set_option('mode.chained_assignment', 'warn')"
   ]
  },
  {
   "cell_type": "code",
   "execution_count": 4746,
   "metadata": {},
   "outputs": [
    {
     "name": "stdout",
     "output_type": "stream",
     "text": [
      "London (167, 5)\n",
      "Glasgow (51, 5)\n",
      "Copenhagen (51, 5)\n"
     ]
    }
   ],
   "source": [
    "print(\"London\", london_df.shape)\n",
    "print(\"Glasgow\", glasgow_df.shape)\n",
    "print(\"Copenhagen\", copenhagen_df.shape)"
   ]
  },
  {
   "cell_type": "code",
   "execution_count": 4747,
   "metadata": {},
   "outputs": [],
   "source": [
    "# If we contacted an online provider, save a recent copy of the results in case the API \n",
    "#    becomes unavailable, or our experimentation hits daily usage limits \n",
    "if online_geocoding:\n",
    "    london_df.to_csv('London_districts_geocoded.csv')\n",
    "    glasgow_df.to_csv('Glasgow_districts_geocoded.csv')\n",
    "    copenhagen_df.to_csv('Copenhagen_districts_geocoded.csv')"
   ]
  },
  {
   "cell_type": "markdown",
   "metadata": {},
   "source": [
    "## 2.3 Venue data<a name=\"Venue_Data\"></a>\n",
    "\n",
    "### 2.3.1 Foursquare as source of data\n",
    "For each district, we will use the Foursquare API https://developer.foursquare.com to obtain a list of available venues in each location. The list of venues will be used to define the profile of each district.<p>\n",
    "    \n",
    "First, lets' define API keys and version of the API. The following cell will be hidden"
   ]
  },
  {
   "cell_type": "code",
   "execution_count": 4748,
   "metadata": {
    "tags": [
     "remove_cell"
    ]
   },
   "outputs": [],
   "source": [
    "CLIENT_ID = '52VQHWMFSFEKTROCKQBDCZG1OSHFQJLG4E3JYHFS30AK3JHA' # your Foursquare ID\n",
    "CLIENT_SECRET = 'PP5LO3LWQ2KC3DICE1PGSOCU2ZGGVGRIACOMCTKLJJR3PHO3' # your Foursquare Secret\n",
    "VERSION = '20180605' # Foursquare API version\n"
   ]
  },
  {
   "cell_type": "markdown",
   "metadata": {},
   "source": [
    "### 2.3.2 Concatenate city data sets \n",
    "We used separate dataframes before geocoding because each city or country mahe have different sources for the data on districts. Now we'll merge all available data in a unique data set before geocoding"
   ]
  },
  {
   "cell_type": "code",
   "execution_count": 4749,
   "metadata": {},
   "outputs": [
    {
     "data": {
      "text/html": [
       "<div>\n",
       "<style scoped>\n",
       "    .dataframe tbody tr th:only-of-type {\n",
       "        vertical-align: middle;\n",
       "    }\n",
       "\n",
       "    .dataframe tbody tr th {\n",
       "        vertical-align: top;\n",
       "    }\n",
       "\n",
       "    .dataframe thead th {\n",
       "        text-align: right;\n",
       "    }\n",
       "</style>\n",
       "<table border=\"1\" class=\"dataframe\">\n",
       "  <thead>\n",
       "    <tr style=\"text-align: right;\">\n",
       "      <th></th>\n",
       "      <th></th>\n",
       "      <th>District_code</th>\n",
       "      <th>District_name</th>\n",
       "      <th>Latitude</th>\n",
       "      <th>Longitude</th>\n",
       "    </tr>\n",
       "  </thead>\n",
       "  <tbody>\n",
       "    <tr>\n",
       "      <th rowspan=\"5\" valign=\"top\">Copenhagen</th>\n",
       "      <th>46</th>\n",
       "      <td>2950</td>\n",
       "      <td>Vedbæk</td>\n",
       "      <td>55.67567</td>\n",
       "      <td>12.56756</td>\n",
       "    </tr>\n",
       "    <tr>\n",
       "      <th>47</th>\n",
       "      <td>2960</td>\n",
       "      <td>Rungsted Kyst</td>\n",
       "      <td>55.67567</td>\n",
       "      <td>12.56756</td>\n",
       "    </tr>\n",
       "    <tr>\n",
       "      <th>48</th>\n",
       "      <td>2970</td>\n",
       "      <td>Hørsholm</td>\n",
       "      <td>55.67567</td>\n",
       "      <td>12.56756</td>\n",
       "    </tr>\n",
       "    <tr>\n",
       "      <th>49</th>\n",
       "      <td>2980</td>\n",
       "      <td>Kokkedal</td>\n",
       "      <td>55.67567</td>\n",
       "      <td>12.56756</td>\n",
       "    </tr>\n",
       "    <tr>\n",
       "      <th>50</th>\n",
       "      <td>2990</td>\n",
       "      <td>Nivå</td>\n",
       "      <td>55.67567</td>\n",
       "      <td>12.56756</td>\n",
       "    </tr>\n",
       "  </tbody>\n",
       "</table>\n",
       "</div>"
      ],
      "text/plain": [
       "              District_code  District_name  Latitude  Longitude\n",
       "Copenhagen 46          2950         Vedbæk  55.67567   12.56756\n",
       "           47          2960  Rungsted Kyst  55.67567   12.56756\n",
       "           48          2970       Hørsholm  55.67567   12.56756\n",
       "           49          2980       Kokkedal  55.67567   12.56756\n",
       "           50          2990           Nivå  55.67567   12.56756"
      ]
     },
     "execution_count": 4749,
     "metadata": {},
     "output_type": "execute_result"
    }
   ],
   "source": [
    "# We concatenate the data and construct a hierarchical index, the first part will be the city name\n",
    "# This will allow to  work with subsets of the data, once the city of destination is known\n",
    "\n",
    "# DELETE THESE THREE\n",
    "#london_df.loc[:,'City'] = \"London\"\n",
    "#glasgow_df.loc[:,'City'] = \"Glasgow\"\n",
    "#copenhagen_df.loc[:,'City'] = \"Copenhagen\"\n",
    "\n",
    "frames = [london_df, glasgow_df, copenhagen_df]\n",
    "cities_df = pd.concat(frames, keys=['London', 'Glasgow', 'Copenhagen'], ignore_index=False, sort=False)\n",
    "\n",
    "cities_df.drop('Unnamed: 0', axis=1, inplace=True)\n",
    "cities_df.tail()"
   ]
  },
  {
   "cell_type": "code",
   "execution_count": 4750,
   "metadata": {},
   "outputs": [
    {
     "data": {
      "text/plain": [
       "(269, 4)"
      ]
     },
     "execution_count": 4750,
     "metadata": {},
     "output_type": "execute_result"
    }
   ],
   "source": [
    "cities_df.shape"
   ]
  },
  {
   "cell_type": "markdown",
   "metadata": {},
   "source": [
    "### 2.3.3 Systematic extraction of venue data\n",
    "Let's create a function that will, for each district:\n",
    "1. Create a Foursquare API call with the appropriate coordinates\n",
    "2. Retrieve nearby venues at a radius of 600m in JSON format\n",
    "3. Filter data to extract venue category\n",
    "4. Return a dataframe containing venue name, venue location, venue category\n"
   ]
  },
  {
   "cell_type": "code",
   "execution_count": 4751,
   "metadata": {},
   "outputs": [],
   "source": [
    "# Note that we don't have to use the city name to dismbiguate between district codes, the geography coordinates\n",
    "#   already do the job \n",
    "\n",
    "results = []\n",
    "LIMIT = 200    # limit of number of venues returned by Foursquare API\n",
    "radius = 1000   # define radius\n",
    "\n",
    "def getNearbyVenues(names, latitudes, longitudes, radius=500):\n",
    "    \n",
    "    venues_list=[]\n",
    "    for name, lat, lng in zip(names, latitudes, longitudes):\n",
    "        print(name, end= ' ')\n",
    "            \n",
    "        # create the API request URL\n",
    "        url = 'https://api.foursquare.com/v2/venues/explore?&client_id={}&client_secret={}&v={}&ll={},{}&radius={}&limit={}&time={}'.format(\n",
    "            CLIENT_ID, \n",
    "            CLIENT_SECRET, \n",
    "            VERSION, \n",
    "            lat, \n",
    "            lng, \n",
    "            radius, \n",
    "            LIMIT,\n",
    "            'any')\n",
    "            \n",
    "        # make the GET request\n",
    "        r = requests.get(url).json()\n",
    "        resp_len = len(r[\"response\"])\n",
    "        if resp_len < 6:\n",
    "            results = r[\"response\"]['groups'][0]['items']\n",
    "        \n",
    "        # return only relevant information for each nearby venue\n",
    "        venues_list.append([(\n",
    "            name, \n",
    "            lat, \n",
    "            lng, \n",
    "            v['venue']['name'], \n",
    "            v['venue']['location']['lat'], \n",
    "            v['venue']['location']['lng'],  \n",
    "            v['venue']['categories'][0]['name']) for v in results])\n",
    "\n",
    "    nearby_venues = pd.DataFrame([item for venue_list in venues_list for item in venue_list])\n",
    "    nearby_venues.columns = ['District_code', \n",
    "                  'District Latitude', \n",
    "                  'District Longitude', \n",
    "                  'Venue', \n",
    "                  'Venue Latitude', \n",
    "                  'Venue Longitude', \n",
    "                  'Venue Category']\n",
    "    \n",
    "    return(nearby_venues)"
   ]
  },
  {
   "cell_type": "code",
   "execution_count": 4752,
   "metadata": {},
   "outputs": [],
   "source": [
    "# We may choose not to call the Foursquare API but read the data from a file that had been saved earlier\n",
    "online_venueinfo = False\n",
    "\n",
    "if online_venueinfo:\n",
    "    city_venues = getNearbyVenues( names = cities_df['District_code'],\n",
    "                               latitudes = cities_df['Latitude'],\n",
    "                               longitudes = cities_df['Longitude']\n",
    "                              )"
   ]
  },
  {
   "cell_type": "code",
   "execution_count": 4753,
   "metadata": {},
   "outputs": [],
   "source": [
    "if online_venueinfo:\n",
    "    city_venues.to_csv('city_venues.csv')\n",
    "else:\n",
    "    city_venues = pd.read_csv('city_venues.csv')"
   ]
  },
  {
   "cell_type": "code",
   "execution_count": 4754,
   "metadata": {},
   "outputs": [
    {
     "data": {
      "text/plain": [
       "(11639, 8)"
      ]
     },
     "execution_count": 4754,
     "metadata": {},
     "output_type": "execute_result"
    }
   ],
   "source": [
    "city_venues.shape"
   ]
  },
  {
   "cell_type": "code",
   "execution_count": 4755,
   "metadata": {
    "scrolled": true
   },
   "outputs": [
    {
     "data": {
      "text/html": [
       "<div>\n",
       "<style scoped>\n",
       "    .dataframe tbody tr th:only-of-type {\n",
       "        vertical-align: middle;\n",
       "    }\n",
       "\n",
       "    .dataframe tbody tr th {\n",
       "        vertical-align: top;\n",
       "    }\n",
       "\n",
       "    .dataframe thead th {\n",
       "        text-align: right;\n",
       "    }\n",
       "</style>\n",
       "<table border=\"1\" class=\"dataframe\">\n",
       "  <thead>\n",
       "    <tr style=\"text-align: right;\">\n",
       "      <th></th>\n",
       "      <th>Unnamed: 0</th>\n",
       "      <th>District_code</th>\n",
       "      <th>District Latitude</th>\n",
       "      <th>District Longitude</th>\n",
       "      <th>Venue</th>\n",
       "      <th>Venue Latitude</th>\n",
       "      <th>Venue Longitude</th>\n",
       "      <th>Venue Category</th>\n",
       "    </tr>\n",
       "  </thead>\n",
       "  <tbody>\n",
       "    <tr>\n",
       "      <th>0</th>\n",
       "      <td>0</td>\n",
       "      <td>EC1A</td>\n",
       "      <td>51.516355</td>\n",
       "      <td>-0.099135</td>\n",
       "      <td>Pilpel</td>\n",
       "      <td>51.515195</td>\n",
       "      <td>-0.098462</td>\n",
       "      <td>Falafel Restaurant</td>\n",
       "    </tr>\n",
       "    <tr>\n",
       "      <th>1</th>\n",
       "      <td>1</td>\n",
       "      <td>EC1A</td>\n",
       "      <td>51.516355</td>\n",
       "      <td>-0.099135</td>\n",
       "      <td>Virgin Active</td>\n",
       "      <td>51.517952</td>\n",
       "      <td>-0.097651</td>\n",
       "      <td>Gym / Fitness Center</td>\n",
       "    </tr>\n",
       "    <tr>\n",
       "      <th>2</th>\n",
       "      <td>2</td>\n",
       "      <td>EC1A</td>\n",
       "      <td>51.516355</td>\n",
       "      <td>-0.099135</td>\n",
       "      <td>Postman's Park</td>\n",
       "      <td>51.516860</td>\n",
       "      <td>-0.097643</td>\n",
       "      <td>Park</td>\n",
       "    </tr>\n",
       "  </tbody>\n",
       "</table>\n",
       "</div>"
      ],
      "text/plain": [
       "   Unnamed: 0 District_code  District Latitude  District Longitude  \\\n",
       "0           0          EC1A          51.516355           -0.099135   \n",
       "1           1          EC1A          51.516355           -0.099135   \n",
       "2           2          EC1A          51.516355           -0.099135   \n",
       "\n",
       "            Venue  Venue Latitude  Venue Longitude        Venue Category  \n",
       "0          Pilpel       51.515195        -0.098462    Falafel Restaurant  \n",
       "1   Virgin Active       51.517952        -0.097651  Gym / Fitness Center  \n",
       "2  Postman's Park       51.516860        -0.097643                  Park  "
      ]
     },
     "execution_count": 4755,
     "metadata": {},
     "output_type": "execute_result"
    }
   ],
   "source": [
    "city_venues[0:3]"
   ]
  },
  {
   "cell_type": "markdown",
   "metadata": {},
   "source": [
    "## 2.4 Venue Classification<a name=\"Venue_Classification\"></a>\n",
    "The Foursquare API supports a hierarchy of categories https://developer.foursquare.com/docs/build-with-foursquare/categories/. We will try to use the hierarchy to improve neighborhood comparison.\n"
   ]
  },
  {
   "cell_type": "markdown",
   "metadata": {},
   "source": [
    "Let's check how many venue categories were collected"
   ]
  },
  {
   "cell_type": "code",
   "execution_count": 4756,
   "metadata": {},
   "outputs": [
    {
     "name": "stdout",
     "output_type": "stream",
     "text": [
      "There are 359 unique categories.\n"
     ]
    }
   ],
   "source": [
    "print('There are {} unique categories.'.format(len(city_venues['Venue Category'].unique())))"
   ]
  },
  {
   "cell_type": "markdown",
   "metadata": {},
   "source": [
    "### 2.4.1 Get Foursquare venue categories"
   ]
  },
  {
   "cell_type": "code",
   "execution_count": 4757,
   "metadata": {},
   "outputs": [],
   "source": [
    "# Create the API request URL\n",
    "url_categs = 'https://api.foursquare.com/v2/venues/categories?client_id={}&client_secret={}&v={}'.format(\n",
    "            CLIENT_ID, \n",
    "            CLIENT_SECRET, \n",
    "            VERSION)\n",
    "\n",
    "root = requests.get(url_categs).json()\n",
    "\n",
    "# json_categs holds the full hierarchical catalog of Foursquare categories in a JSON dictionary data structure\n",
    "json_categs = root['response']['categories']"
   ]
  },
  {
   "cell_type": "markdown",
   "metadata": {},
   "source": [
    "### 2.4.2 Steps to calculate venue aggregation groups\n",
    "\n",
    "The Foursquare exploration API returns a detailed classification for each venue: for example, it distinguishes between a Spanish restaurant, an Italian restaurant, and so on. We would like to select certain categories in the category hierarchy, that can serve as __aggregation points__ for all detailed categories below.<p>\n",
    "    \n",
    "We need a new function that receives a venue category as input, and returns the corresponding, higher level category that will be used to aggregate venues.\n",
    "The function may also return the value of None, if the venue belongs to a category that is of no interest to our analysis.<br>\n",
    "The steps are:\n",
    "1. Define a list of high-level categories deemed useful for aggregation and comparison purposes\n",
    "2. Augment the Categories JSON dictionary with links that permit to navigate upwards in the hierarchy \n",
    "3. Define a search function that, given an input string, searches the Categories dictionary to locate the corresponding category\n",
    "4. Define a lookup function that, starting from a specific node in the category tree, navigates up to the node that will act as point of aggregation"
   ]
  },
  {
   "cell_type": "markdown",
   "metadata": {},
   "source": [
    "### 2.4.3 Selection of categories used in comparison\n",
    "We start by selecting most of the top-level venue categories.<br>\n",
    "The approach allows to be selective and treat some parts of the graph in mode detail than others, for example we might add 'Movie Theaters' as venue of particular interest and use it in district comparisons"
   ]
  },
  {
   "cell_type": "code",
   "execution_count": 4758,
   "metadata": {},
   "outputs": [],
   "source": [
    "# Our initial select list of categories to be used in district comparisons\n",
    "# The user can add to these in the Preferences section\n",
    "useful_categories = ['Arts & Entertainment', 'College & University', 'Event', 'Food', 'Nightlife Spot', \\\n",
    "                     'Outdoors & Recreation', 'Professional & Other Places', 'Shop & Service', \\\n",
    "                     'Travel & Transport']"
   ]
  },
  {
   "cell_type": "markdown",
   "metadata": {},
   "source": [
    "### 2.4.4 Augment hierarchy of categories with parent links"
   ]
  },
  {
   "cell_type": "code",
   "execution_count": 4759,
   "metadata": {},
   "outputs": [],
   "source": [
    "# The set_parent function navigates each element in each tree of the JSON Category hierarchy \n",
    "# There are 10 distinct top-level categories\n",
    "# A 'parent' element pointing upwards is added to each category\n",
    "\n",
    "def set_parent(node):\n",
    "    if 'categories' in node.keys():\n",
    "        for n in node['categories']:\n",
    "            n['parent'] = node\n",
    "            set_parent(n)\n",
    "\n",
    "# top_level_nodes is a global data structure that will hold the independent fragments of the Categories tree\n",
    "top_level_nodes = []\n",
    "\n",
    "for top in json_categs:\n",
    "    top['parent'] = None\n",
    "    top_level_nodes.append(top)\n",
    "    set_parent(top)"
   ]
  },
  {
   "cell_type": "markdown",
   "metadata": {},
   "source": [
    "### 2.4.5 A function to search categories"
   ]
  },
  {
   "cell_type": "code",
   "execution_count": 4760,
   "metadata": {},
   "outputs": [],
   "source": [
    "# get_category receives a string as input, searches the Category trees and returns the corresponding node\n",
    "# We don't need to check for cyclical graphs, etc. since the data is curated by Foursquare\n",
    "\n",
    "# A top-down recursive search that looks for a perfect match to the category name\n",
    "def find_node(node, input):\n",
    "    if node['name'] == input:\n",
    "        return node\n",
    "    if 'categories' in node.keys():\n",
    "        for n in node['categories']:\n",
    "            if find_node(n, input) is not None:\n",
    "                return n\n",
    "    else:\n",
    "        return None\n",
    "    \n",
    "# Search each of the Category tree fragments for the input string\n",
    "def get_category(input):\n",
    "    for t in top_level_nodes:\n",
    "        result = find_node(t, input)\n",
    "        if result is not None:\n",
    "            return result\n",
    "    return None"
   ]
  },
  {
   "cell_type": "markdown",
   "metadata": {
    "scrolled": true
   },
   "source": [
    "### 2.4.6 Aggregation category lookup"
   ]
  },
  {
   "cell_type": "code",
   "execution_count": 4761,
   "metadata": {},
   "outputs": [],
   "source": [
    "# The function starts from a specific point in the Category tree and navigates up the hierarchy \n",
    "# until it finds a node that can act as an aggregation point (i.e. is present in the useful_categories)\n",
    "# Note the function may also return None, not all venues are of interest for our comparison, a value of None\n",
    "# means the corrssponding venue will later be dropped\n",
    "\n",
    "def get_aggregation_category(classification):\n",
    "    node = classification\n",
    "    if node['name'] in useful_categories:\n",
    "        return node['name']\n",
    "    while node['parent'] is not None:\n",
    "        node = node['parent']\n",
    "        if node['name'] in useful_categories:\n",
    "            return node['name']\n",
    "    return None"
   ]
  },
  {
   "cell_type": "code",
   "execution_count": 4762,
   "metadata": {},
   "outputs": [
    {
     "data": {
      "text/html": [
       "<div>\n",
       "<style scoped>\n",
       "    .dataframe tbody tr th:only-of-type {\n",
       "        vertical-align: middle;\n",
       "    }\n",
       "\n",
       "    .dataframe tbody tr th {\n",
       "        vertical-align: top;\n",
       "    }\n",
       "\n",
       "    .dataframe thead th {\n",
       "        text-align: right;\n",
       "    }\n",
       "</style>\n",
       "<table border=\"1\" class=\"dataframe\">\n",
       "  <thead>\n",
       "    <tr style=\"text-align: right;\">\n",
       "      <th></th>\n",
       "      <th>Unnamed: 0</th>\n",
       "      <th>District_code</th>\n",
       "      <th>District Latitude</th>\n",
       "      <th>District Longitude</th>\n",
       "      <th>Venue</th>\n",
       "      <th>Venue Latitude</th>\n",
       "      <th>Venue Longitude</th>\n",
       "      <th>Venue Category</th>\n",
       "    </tr>\n",
       "  </thead>\n",
       "  <tbody>\n",
       "    <tr>\n",
       "      <th>0</th>\n",
       "      <td>0</td>\n",
       "      <td>EC1A</td>\n",
       "      <td>51.516355</td>\n",
       "      <td>-0.099135</td>\n",
       "      <td>Pilpel</td>\n",
       "      <td>51.515195</td>\n",
       "      <td>-0.098462</td>\n",
       "      <td>Falafel Restaurant</td>\n",
       "    </tr>\n",
       "    <tr>\n",
       "      <th>1</th>\n",
       "      <td>1</td>\n",
       "      <td>EC1A</td>\n",
       "      <td>51.516355</td>\n",
       "      <td>-0.099135</td>\n",
       "      <td>Virgin Active</td>\n",
       "      <td>51.517952</td>\n",
       "      <td>-0.097651</td>\n",
       "      <td>Gym / Fitness Center</td>\n",
       "    </tr>\n",
       "    <tr>\n",
       "      <th>2</th>\n",
       "      <td>2</td>\n",
       "      <td>EC1A</td>\n",
       "      <td>51.516355</td>\n",
       "      <td>-0.099135</td>\n",
       "      <td>Postman's Park</td>\n",
       "      <td>51.516860</td>\n",
       "      <td>-0.097643</td>\n",
       "      <td>Park</td>\n",
       "    </tr>\n",
       "  </tbody>\n",
       "</table>\n",
       "</div>"
      ],
      "text/plain": [
       "   Unnamed: 0 District_code  District Latitude  District Longitude  \\\n",
       "0           0          EC1A          51.516355           -0.099135   \n",
       "1           1          EC1A          51.516355           -0.099135   \n",
       "2           2          EC1A          51.516355           -0.099135   \n",
       "\n",
       "            Venue  Venue Latitude  Venue Longitude        Venue Category  \n",
       "0          Pilpel       51.515195        -0.098462    Falafel Restaurant  \n",
       "1   Virgin Active       51.517952        -0.097651  Gym / Fitness Center  \n",
       "2  Postman's Park       51.516860        -0.097643                  Park  "
      ]
     },
     "execution_count": 4762,
     "metadata": {},
     "output_type": "execute_result"
    }
   ],
   "source": [
    "city_venues.head(3)"
   ]
  },
  {
   "cell_type": "markdown",
   "metadata": {},
   "source": [
    "Now we're going to augment the city_venues dataset with the High-Level Venue Category column "
   ]
  },
  {
   "cell_type": "code",
   "execution_count": 4763,
   "metadata": {
    "scrolled": true
   },
   "outputs": [],
   "source": [
    "high_level_categories = []\n",
    "for tc in city_venues['Venue Category']:\n",
    "    dc = get_category(tc)\n",
    "    #print(\"Detailed venue is:\", tc, end=' ')\n",
    "    hlc = get_aggregation_category(dc)\n",
    "    #print(\", \\thigh-level category is: \", hlc)\n",
    "    high_level_categories.append(hlc)\n",
    "    \n",
    "city_venues['HL Venue Category'] = high_level_categories"
   ]
  },
  {
   "cell_type": "code",
   "execution_count": 4764,
   "metadata": {
    "scrolled": true
   },
   "outputs": [
    {
     "data": {
      "text/html": [
       "<div>\n",
       "<style scoped>\n",
       "    .dataframe tbody tr th:only-of-type {\n",
       "        vertical-align: middle;\n",
       "    }\n",
       "\n",
       "    .dataframe tbody tr th {\n",
       "        vertical-align: top;\n",
       "    }\n",
       "\n",
       "    .dataframe thead th {\n",
       "        text-align: right;\n",
       "    }\n",
       "</style>\n",
       "<table border=\"1\" class=\"dataframe\">\n",
       "  <thead>\n",
       "    <tr style=\"text-align: right;\">\n",
       "      <th></th>\n",
       "      <th>Unnamed: 0</th>\n",
       "      <th>District_code</th>\n",
       "      <th>District Latitude</th>\n",
       "      <th>District Longitude</th>\n",
       "      <th>Venue</th>\n",
       "      <th>Venue Latitude</th>\n",
       "      <th>Venue Longitude</th>\n",
       "      <th>Venue Category</th>\n",
       "      <th>HL Venue Category</th>\n",
       "    </tr>\n",
       "  </thead>\n",
       "  <tbody>\n",
       "    <tr>\n",
       "      <th>0</th>\n",
       "      <td>0</td>\n",
       "      <td>EC1A</td>\n",
       "      <td>51.516355</td>\n",
       "      <td>-0.099135</td>\n",
       "      <td>Pilpel</td>\n",
       "      <td>51.515195</td>\n",
       "      <td>-0.098462</td>\n",
       "      <td>Falafel Restaurant</td>\n",
       "      <td>Food</td>\n",
       "    </tr>\n",
       "    <tr>\n",
       "      <th>1</th>\n",
       "      <td>1</td>\n",
       "      <td>EC1A</td>\n",
       "      <td>51.516355</td>\n",
       "      <td>-0.099135</td>\n",
       "      <td>Virgin Active</td>\n",
       "      <td>51.517952</td>\n",
       "      <td>-0.097651</td>\n",
       "      <td>Gym / Fitness Center</td>\n",
       "      <td>Outdoors &amp; Recreation</td>\n",
       "    </tr>\n",
       "    <tr>\n",
       "      <th>2</th>\n",
       "      <td>2</td>\n",
       "      <td>EC1A</td>\n",
       "      <td>51.516355</td>\n",
       "      <td>-0.099135</td>\n",
       "      <td>Postman's Park</td>\n",
       "      <td>51.516860</td>\n",
       "      <td>-0.097643</td>\n",
       "      <td>Park</td>\n",
       "      <td>Outdoors &amp; Recreation</td>\n",
       "    </tr>\n",
       "  </tbody>\n",
       "</table>\n",
       "</div>"
      ],
      "text/plain": [
       "   Unnamed: 0 District_code  District Latitude  District Longitude  \\\n",
       "0           0          EC1A          51.516355           -0.099135   \n",
       "1           1          EC1A          51.516355           -0.099135   \n",
       "2           2          EC1A          51.516355           -0.099135   \n",
       "\n",
       "            Venue  Venue Latitude  Venue Longitude        Venue Category  \\\n",
       "0          Pilpel       51.515195        -0.098462    Falafel Restaurant   \n",
       "1   Virgin Active       51.517952        -0.097651  Gym / Fitness Center   \n",
       "2  Postman's Park       51.516860        -0.097643                  Park   \n",
       "\n",
       "       HL Venue Category  \n",
       "0                   Food  \n",
       "1  Outdoors & Recreation  \n",
       "2  Outdoors & Recreation  "
      ]
     },
     "execution_count": 4764,
     "metadata": {},
     "output_type": "execute_result"
    }
   ],
   "source": [
    "city_venues[0:3]"
   ]
  },
  {
   "cell_type": "markdown",
   "metadata": {},
   "source": [
    "## 2.5 User Preferences<a name=\"User_Preferences\"></a>\n",
    "\n",
    "The District Recommender service requests its users to submit their preferences in terms of a district they liked in a city they have visited in the past. These locations are used as input, to calculate the user’s preferences in terms of  type and density of venues in the district, and consequently of the lifestyle they would like to enjoy.\n",
    "<br>\n",
    "In our test example, the user declares preferences on a few districts of the city of London, with __W10__ (Portobello / Ladbroke Grove) and __W11__ (Notting Hill) obtaining the highest ratings. The user also declares the city of destination to be __Copenhagen__."
   ]
  },
  {
   "cell_type": "code",
   "execution_count": 4765,
   "metadata": {},
   "outputs": [],
   "source": [
    "# We assume the user is familiar with the city of London, so expressed preferences by picking areas \n",
    "#   on a London map and assigning them ratings from 1 to 5 \n",
    "# The resulting data is shown below\n",
    "user_input = [\n",
    "            {'City': 'London', 'District_code':'W11', 'rating': 5.0},\n",
    "            {'City': 'London', 'District_code':'N1', 'rating': 4.0},\n",
    "            {'City': 'London', 'District_code':'E9', 'rating': 3.5}\n",
    "            ]\n",
    "\n",
    "input_districts = pd.DataFrame(user_input)\n",
    "\n",
    "input_destination_city = 'Copenhagen'"
   ]
  },
  {
   "cell_type": "markdown",
   "metadata": {},
   "source": [
    "Merge the above user preferences with the districts dataframe. This ensures that all user preferences correspond to districts that are in our database. If not so, we might have misspelled a code somewhere"
   ]
  },
  {
   "cell_type": "code",
   "execution_count": 4766,
   "metadata": {},
   "outputs": [
    {
     "data": {
      "text/html": [
       "<div>\n",
       "<style scoped>\n",
       "    .dataframe tbody tr th:only-of-type {\n",
       "        vertical-align: middle;\n",
       "    }\n",
       "\n",
       "    .dataframe tbody tr th {\n",
       "        vertical-align: top;\n",
       "    }\n",
       "\n",
       "    .dataframe thead th {\n",
       "        text-align: right;\n",
       "    }\n",
       "</style>\n",
       "<table border=\"1\" class=\"dataframe\">\n",
       "  <thead>\n",
       "    <tr style=\"text-align: right;\">\n",
       "      <th></th>\n",
       "      <th>District_name</th>\n",
       "      <th>Latitude</th>\n",
       "      <th>Longitude</th>\n",
       "      <th>City</th>\n",
       "      <th>rating</th>\n",
       "    </tr>\n",
       "    <tr>\n",
       "      <th>District_code</th>\n",
       "      <th></th>\n",
       "      <th></th>\n",
       "      <th></th>\n",
       "      <th></th>\n",
       "      <th></th>\n",
       "    </tr>\n",
       "  </thead>\n",
       "  <tbody>\n",
       "    <tr>\n",
       "      <th>E9</th>\n",
       "      <td>Hackney, Homerton</td>\n",
       "      <td>51.53777</td>\n",
       "      <td>-0.04480</td>\n",
       "      <td>London</td>\n",
       "      <td>3.5</td>\n",
       "    </tr>\n",
       "    <tr>\n",
       "      <th>N1</th>\n",
       "      <td>Barnsbury, Canonbury, Islington</td>\n",
       "      <td>51.52969</td>\n",
       "      <td>-0.08697</td>\n",
       "      <td>London</td>\n",
       "      <td>4.0</td>\n",
       "    </tr>\n",
       "    <tr>\n",
       "      <th>W11</th>\n",
       "      <td>Holland Park, Notting Hill</td>\n",
       "      <td>51.51244</td>\n",
       "      <td>-0.20639</td>\n",
       "      <td>London</td>\n",
       "      <td>5.0</td>\n",
       "    </tr>\n",
       "  </tbody>\n",
       "</table>\n",
       "</div>"
      ],
      "text/plain": [
       "                                 District_name  Latitude  Longitude    City  \\\n",
       "District_code                                                                 \n",
       "E9                           Hackney, Homerton  51.53777   -0.04480  London   \n",
       "N1             Barnsbury, Canonbury, Islington  51.52969   -0.08697  London   \n",
       "W11                 Holland Park, Notting Hill  51.51244   -0.20639  London   \n",
       "\n",
       "               rating  \n",
       "District_code          \n",
       "E9                3.5  \n",
       "N1                4.0  \n",
       "W11               5.0  "
      ]
     },
     "execution_count": 4766,
     "metadata": {},
     "output_type": "execute_result"
    }
   ],
   "source": [
    "# Filtering out the districts by post code\n",
    "inputId = cities_df[cities_df['District_code'].isin(input_districts['District_code'].tolist())]\n",
    "input_districts = pd.merge(inputId, input_districts)\n",
    "\n",
    "# Let's recap user preferences\n",
    "input_districts.sort_values('rating', ascending=False)\n",
    "\n",
    "input_districts.set_index('District_code')"
   ]
  },
  {
   "cell_type": "markdown",
   "metadata": {},
   "source": [
    "# 3. Methodology<a name=\"Methodology\"></a>\n",
    "\n",
    "To buld a __content-based recommender__ that recommends districts to our user, we need two ingredients that have become available after the work in the previous chapter:\n",
    "* A full dataset of __districts & venue category populations__, that includes a city the user knows and a city where the user wants to move to. The dataset contains the number of venues in each venue category for each district.\n",
    "* A set of __user preferences__ in terms of districts in the known city, and numerical ratings for each district.\n",
    "\n",
    "The recommendation will be produced in four steps:\n",
    "1. __Transform__ the dataset of districts and venue category populations, using one hot encoding\n",
    "2. __Extract__ from the full dataset only the districts that correspond to the user's preferences\n",
    "3. __Calculate a user profile vector__ of weights assigned to Venue categories, by multiplying User ratings and Venue category numbers\n",
    "4. Obtain a numeric __preference score for each unknown district__, by multiplying the user profile vector to the venue population data for each district.\n",
    "5. __Sort results__ and propose the top scoring alternatives"
   ]
  },
  {
   "cell_type": "markdown",
   "metadata": {},
   "source": [
    "# 4. Analysis<a name=\"Analysis\"></a>\n",
    "\n",
    "## 4.1 Transform data<a name=\"Transform_Data\"></a>"
   ]
  },
  {
   "cell_type": "code",
   "execution_count": 4767,
   "metadata": {},
   "outputs": [
    {
     "data": {
      "text/html": [
       "<div>\n",
       "<style scoped>\n",
       "    .dataframe tbody tr th:only-of-type {\n",
       "        vertical-align: middle;\n",
       "    }\n",
       "\n",
       "    .dataframe tbody tr th {\n",
       "        vertical-align: top;\n",
       "    }\n",
       "\n",
       "    .dataframe thead th {\n",
       "        text-align: right;\n",
       "    }\n",
       "</style>\n",
       "<table border=\"1\" class=\"dataframe\">\n",
       "  <thead>\n",
       "    <tr style=\"text-align: right;\">\n",
       "      <th></th>\n",
       "      <th>District_code</th>\n",
       "      <th>Arts &amp; Entertainment</th>\n",
       "      <th>College &amp; University</th>\n",
       "      <th>Food</th>\n",
       "      <th>Nightlife Spot</th>\n",
       "      <th>Outdoors &amp; Recreation</th>\n",
       "      <th>Professional &amp; Other Places</th>\n",
       "      <th>Shop &amp; Service</th>\n",
       "      <th>Travel &amp; Transport</th>\n",
       "    </tr>\n",
       "  </thead>\n",
       "  <tbody>\n",
       "    <tr>\n",
       "      <th>0</th>\n",
       "      <td>EC1A</td>\n",
       "      <td>0</td>\n",
       "      <td>0</td>\n",
       "      <td>1</td>\n",
       "      <td>0</td>\n",
       "      <td>0</td>\n",
       "      <td>0</td>\n",
       "      <td>0</td>\n",
       "      <td>0</td>\n",
       "    </tr>\n",
       "    <tr>\n",
       "      <th>1</th>\n",
       "      <td>EC1A</td>\n",
       "      <td>0</td>\n",
       "      <td>0</td>\n",
       "      <td>0</td>\n",
       "      <td>0</td>\n",
       "      <td>1</td>\n",
       "      <td>0</td>\n",
       "      <td>0</td>\n",
       "      <td>0</td>\n",
       "    </tr>\n",
       "    <tr>\n",
       "      <th>2</th>\n",
       "      <td>EC1A</td>\n",
       "      <td>0</td>\n",
       "      <td>0</td>\n",
       "      <td>0</td>\n",
       "      <td>0</td>\n",
       "      <td>1</td>\n",
       "      <td>0</td>\n",
       "      <td>0</td>\n",
       "      <td>0</td>\n",
       "    </tr>\n",
       "    <tr>\n",
       "      <th>3</th>\n",
       "      <td>EC1A</td>\n",
       "      <td>0</td>\n",
       "      <td>0</td>\n",
       "      <td>1</td>\n",
       "      <td>0</td>\n",
       "      <td>0</td>\n",
       "      <td>0</td>\n",
       "      <td>0</td>\n",
       "      <td>0</td>\n",
       "    </tr>\n",
       "    <tr>\n",
       "      <th>4</th>\n",
       "      <td>EC1A</td>\n",
       "      <td>0</td>\n",
       "      <td>0</td>\n",
       "      <td>0</td>\n",
       "      <td>0</td>\n",
       "      <td>1</td>\n",
       "      <td>0</td>\n",
       "      <td>0</td>\n",
       "      <td>0</td>\n",
       "    </tr>\n",
       "  </tbody>\n",
       "</table>\n",
       "</div>"
      ],
      "text/plain": [
       "  District_code  Arts & Entertainment  College & University  Food  \\\n",
       "0          EC1A                     0                     0     1   \n",
       "1          EC1A                     0                     0     0   \n",
       "2          EC1A                     0                     0     0   \n",
       "3          EC1A                     0                     0     1   \n",
       "4          EC1A                     0                     0     0   \n",
       "\n",
       "   Nightlife Spot  Outdoors & Recreation  Professional & Other Places  \\\n",
       "0               0                      0                            0   \n",
       "1               0                      1                            0   \n",
       "2               0                      1                            0   \n",
       "3               0                      0                            0   \n",
       "4               0                      1                            0   \n",
       "\n",
       "   Shop & Service  Travel & Transport  \n",
       "0               0                   0  \n",
       "1               0                   0  \n",
       "2               0                   0  \n",
       "3               0                   0  \n",
       "4               0                   0  "
      ]
     },
     "execution_count": 4767,
     "metadata": {},
     "output_type": "execute_result"
    }
   ],
   "source": [
    "# one hot encoding\n",
    "cities_onehot = pd.get_dummies(city_venues[['HL Venue Category']], prefix=\"\", prefix_sep=\"\")\n",
    "\n",
    "cities_onehot.insert(0, 'District_code', city_venues['District_code'], allow_duplicates=False) \n",
    "\n",
    "cities_onehot.head()"
   ]
  },
  {
   "cell_type": "code",
   "execution_count": 4768,
   "metadata": {},
   "outputs": [
    {
     "data": {
      "text/plain": [
       "(11639, 9)"
      ]
     },
     "execution_count": 4768,
     "metadata": {},
     "output_type": "execute_result"
    }
   ],
   "source": [
    "cities_onehot.shape"
   ]
  },
  {
   "cell_type": "markdown",
   "metadata": {},
   "source": [
    "We'll group rows by district and take a numerical indicator of the frequency of occurrence of each category.\n",
    "In our first take to the problem, this will be the mean."
   ]
  },
  {
   "cell_type": "code",
   "execution_count": 4769,
   "metadata": {
    "scrolled": true
   },
   "outputs": [
    {
     "data": {
      "text/html": [
       "<div>\n",
       "<style scoped>\n",
       "    .dataframe tbody tr th:only-of-type {\n",
       "        vertical-align: middle;\n",
       "    }\n",
       "\n",
       "    .dataframe tbody tr th {\n",
       "        vertical-align: top;\n",
       "    }\n",
       "\n",
       "    .dataframe thead th {\n",
       "        text-align: right;\n",
       "    }\n",
       "</style>\n",
       "<table border=\"1\" class=\"dataframe\">\n",
       "  <thead>\n",
       "    <tr style=\"text-align: right;\">\n",
       "      <th></th>\n",
       "      <th>District_code</th>\n",
       "      <th>Arts &amp; Entertainment</th>\n",
       "      <th>College &amp; University</th>\n",
       "      <th>Food</th>\n",
       "      <th>Nightlife Spot</th>\n",
       "      <th>Outdoors &amp; Recreation</th>\n",
       "      <th>Professional &amp; Other Places</th>\n",
       "      <th>Shop &amp; Service</th>\n",
       "      <th>Travel &amp; Transport</th>\n",
       "    </tr>\n",
       "  </thead>\n",
       "  <tbody>\n",
       "    <tr>\n",
       "      <th>0</th>\n",
       "      <td>1000-1499</td>\n",
       "      <td>0.261364</td>\n",
       "      <td>0.0</td>\n",
       "      <td>0.443182</td>\n",
       "      <td>0.102273</td>\n",
       "      <td>0.034091</td>\n",
       "      <td>0.0</td>\n",
       "      <td>0.102273</td>\n",
       "      <td>0.056818</td>\n",
       "    </tr>\n",
       "    <tr>\n",
       "      <th>1</th>\n",
       "      <td>1500-1799</td>\n",
       "      <td>0.000000</td>\n",
       "      <td>0.0</td>\n",
       "      <td>0.538462</td>\n",
       "      <td>0.076923</td>\n",
       "      <td>0.153846</td>\n",
       "      <td>0.0</td>\n",
       "      <td>0.076923</td>\n",
       "      <td>0.153846</td>\n",
       "    </tr>\n",
       "    <tr>\n",
       "      <th>2</th>\n",
       "      <td>1800-1999</td>\n",
       "      <td>0.261364</td>\n",
       "      <td>0.0</td>\n",
       "      <td>0.443182</td>\n",
       "      <td>0.102273</td>\n",
       "      <td>0.034091</td>\n",
       "      <td>0.0</td>\n",
       "      <td>0.102273</td>\n",
       "      <td>0.056818</td>\n",
       "    </tr>\n",
       "    <tr>\n",
       "      <th>3</th>\n",
       "      <td>2000</td>\n",
       "      <td>0.000000</td>\n",
       "      <td>0.0</td>\n",
       "      <td>0.411765</td>\n",
       "      <td>0.058824</td>\n",
       "      <td>0.176471</td>\n",
       "      <td>0.0</td>\n",
       "      <td>0.294118</td>\n",
       "      <td>0.058824</td>\n",
       "    </tr>\n",
       "    <tr>\n",
       "      <th>4</th>\n",
       "      <td>2100</td>\n",
       "      <td>0.127273</td>\n",
       "      <td>0.0</td>\n",
       "      <td>0.381818</td>\n",
       "      <td>0.054545</td>\n",
       "      <td>0.218182</td>\n",
       "      <td>0.0</td>\n",
       "      <td>0.218182</td>\n",
       "      <td>0.000000</td>\n",
       "    </tr>\n",
       "  </tbody>\n",
       "</table>\n",
       "</div>"
      ],
      "text/plain": [
       "  District_code  Arts & Entertainment  College & University      Food  \\\n",
       "0     1000-1499              0.261364                   0.0  0.443182   \n",
       "1     1500-1799              0.000000                   0.0  0.538462   \n",
       "2     1800-1999              0.261364                   0.0  0.443182   \n",
       "3          2000              0.000000                   0.0  0.411765   \n",
       "4          2100              0.127273                   0.0  0.381818   \n",
       "\n",
       "   Nightlife Spot  Outdoors & Recreation  Professional & Other Places  \\\n",
       "0        0.102273               0.034091                          0.0   \n",
       "1        0.076923               0.153846                          0.0   \n",
       "2        0.102273               0.034091                          0.0   \n",
       "3        0.058824               0.176471                          0.0   \n",
       "4        0.054545               0.218182                          0.0   \n",
       "\n",
       "   Shop & Service  Travel & Transport  \n",
       "0        0.102273            0.056818  \n",
       "1        0.076923            0.153846  \n",
       "2        0.102273            0.056818  \n",
       "3        0.294118            0.058824  \n",
       "4        0.218182            0.000000  "
      ]
     },
     "execution_count": 4769,
     "metadata": {},
     "output_type": "execute_result"
    }
   ],
   "source": [
    "cities_grouped = cities_onehot.groupby('District_code').mean().reset_index()\n",
    "cities_grouped.head()"
   ]
  },
  {
   "cell_type": "markdown",
   "metadata": {},
   "source": [
    "Looking at the values above, we see that there is a large disparity in the values of the Food column and other values such as Shop & Service. <br>\n",
    "__The 5x-10x difference between the columns would have a disproportionate impact on the calculation of numerical values of the user preferences.__\n",
    "<br>\n",
    "For this reason we'll proceed to transform the data. Min-max scaling goes in the right direction but is not sufficient to cancel such a large discrepanc in values. For this reason we'll use another transformation, the __QuantileTranformer__ that produces a uniform distribution and is robust to outliers. "
   ]
  },
  {
   "cell_type": "code",
   "execution_count": 4770,
   "metadata": {},
   "outputs": [
    {
     "data": {
      "text/html": [
       "<div>\n",
       "<style scoped>\n",
       "    .dataframe tbody tr th:only-of-type {\n",
       "        vertical-align: middle;\n",
       "    }\n",
       "\n",
       "    .dataframe tbody tr th {\n",
       "        vertical-align: top;\n",
       "    }\n",
       "\n",
       "    .dataframe thead th {\n",
       "        text-align: right;\n",
       "    }\n",
       "</style>\n",
       "<table border=\"1\" class=\"dataframe\">\n",
       "  <thead>\n",
       "    <tr style=\"text-align: right;\">\n",
       "      <th></th>\n",
       "      <th>District_code</th>\n",
       "      <th>Arts &amp; Entertainment</th>\n",
       "      <th>College &amp; University</th>\n",
       "      <th>Food</th>\n",
       "      <th>Nightlife Spot</th>\n",
       "      <th>Outdoors &amp; Recreation</th>\n",
       "      <th>Professional &amp; Other Places</th>\n",
       "      <th>Shop &amp; Service</th>\n",
       "      <th>Travel &amp; Transport</th>\n",
       "    </tr>\n",
       "  </thead>\n",
       "  <tbody>\n",
       "    <tr>\n",
       "      <th>0</th>\n",
       "      <td>1000-1499</td>\n",
       "      <td>0.916667</td>\n",
       "      <td>0.0</td>\n",
       "      <td>0.494186</td>\n",
       "      <td>0.451550</td>\n",
       "      <td>0.300388</td>\n",
       "      <td>0.0</td>\n",
       "      <td>0.362403</td>\n",
       "      <td>0.527132</td>\n",
       "    </tr>\n",
       "    <tr>\n",
       "      <th>1</th>\n",
       "      <td>1500-1799</td>\n",
       "      <td>0.000000</td>\n",
       "      <td>0.0</td>\n",
       "      <td>0.742248</td>\n",
       "      <td>0.284884</td>\n",
       "      <td>0.798450</td>\n",
       "      <td>0.0</td>\n",
       "      <td>0.207364</td>\n",
       "      <td>0.860465</td>\n",
       "    </tr>\n",
       "    <tr>\n",
       "      <th>2</th>\n",
       "      <td>1800-1999</td>\n",
       "      <td>0.916667</td>\n",
       "      <td>0.0</td>\n",
       "      <td>0.494186</td>\n",
       "      <td>0.451550</td>\n",
       "      <td>0.300388</td>\n",
       "      <td>0.0</td>\n",
       "      <td>0.362403</td>\n",
       "      <td>0.527132</td>\n",
       "    </tr>\n",
       "    <tr>\n",
       "      <th>3</th>\n",
       "      <td>2000</td>\n",
       "      <td>0.000000</td>\n",
       "      <td>0.0</td>\n",
       "      <td>0.368217</td>\n",
       "      <td>0.228682</td>\n",
       "      <td>0.835271</td>\n",
       "      <td>0.0</td>\n",
       "      <td>0.841085</td>\n",
       "      <td>0.612403</td>\n",
       "    </tr>\n",
       "    <tr>\n",
       "      <th>4</th>\n",
       "      <td>2100</td>\n",
       "      <td>0.732558</td>\n",
       "      <td>0.0</td>\n",
       "      <td>0.304264</td>\n",
       "      <td>0.217054</td>\n",
       "      <td>0.883721</td>\n",
       "      <td>0.0</td>\n",
       "      <td>0.740310</td>\n",
       "      <td>0.000000</td>\n",
       "    </tr>\n",
       "  </tbody>\n",
       "</table>\n",
       "</div>"
      ],
      "text/plain": [
       "  District_code  Arts & Entertainment  College & University      Food  \\\n",
       "0     1000-1499              0.916667                   0.0  0.494186   \n",
       "1     1500-1799              0.000000                   0.0  0.742248   \n",
       "2     1800-1999              0.916667                   0.0  0.494186   \n",
       "3          2000              0.000000                   0.0  0.368217   \n",
       "4          2100              0.732558                   0.0  0.304264   \n",
       "\n",
       "   Nightlife Spot  Outdoors & Recreation  Professional & Other Places  \\\n",
       "0        0.451550               0.300388                          0.0   \n",
       "1        0.284884               0.798450                          0.0   \n",
       "2        0.451550               0.300388                          0.0   \n",
       "3        0.228682               0.835271                          0.0   \n",
       "4        0.217054               0.883721                          0.0   \n",
       "\n",
       "   Shop & Service  Travel & Transport  \n",
       "0        0.362403            0.527132  \n",
       "1        0.207364            0.860465  \n",
       "2        0.362403            0.527132  \n",
       "3        0.841085            0.612403  \n",
       "4        0.740310            0.000000  "
      ]
     },
     "execution_count": 4770,
     "metadata": {},
     "output_type": "execute_result"
    }
   ],
   "source": [
    "# We don't have a large dataset, so we use the n_quantiles parameter to silence the warning\n",
    "from sklearn.preprocessing import QuantileTransformer\n",
    "\n",
    "scaler = QuantileTransformer(n_quantiles=min(len(cities_grouped), 1000))\n",
    "\n",
    "# We cannot pass a string column as parameter to the scaler\n",
    "numeric_columns = cities_grouped.columns.drop('District_code')\n",
    "\n",
    "cities_grouped[numeric_columns] = scaler.fit_transform(cities_grouped[numeric_columns])\n",
    "cities_grouped.head()"
   ]
  },
  {
   "cell_type": "markdown",
   "metadata": {},
   "source": [
    "This looks better"
   ]
  },
  {
   "cell_type": "code",
   "execution_count": 4771,
   "metadata": {},
   "outputs": [
    {
     "data": {
      "text/plain": [
       "(259, 9)"
      ]
     },
     "execution_count": 4771,
     "metadata": {},
     "output_type": "execute_result"
    }
   ],
   "source": [
    "cities_grouped.shape"
   ]
  },
  {
   "cell_type": "markdown",
   "metadata": {},
   "source": [
    "## 4.2 Extract Data<a name=\"Extract_Data\"></a>\n",
    "\n",
    "Extract the subset of the cities' encoded data that belongs to districts known to the user"
   ]
  },
  {
   "cell_type": "code",
   "execution_count": 4772,
   "metadata": {},
   "outputs": [
    {
     "data": {
      "text/html": [
       "<div>\n",
       "<style scoped>\n",
       "    .dataframe tbody tr th:only-of-type {\n",
       "        vertical-align: middle;\n",
       "    }\n",
       "\n",
       "    .dataframe tbody tr th {\n",
       "        vertical-align: top;\n",
       "    }\n",
       "\n",
       "    .dataframe thead th {\n",
       "        text-align: right;\n",
       "    }\n",
       "</style>\n",
       "<table border=\"1\" class=\"dataframe\">\n",
       "  <thead>\n",
       "    <tr style=\"text-align: right;\">\n",
       "      <th></th>\n",
       "      <th>District_code</th>\n",
       "      <th>Arts &amp; Entertainment</th>\n",
       "      <th>College &amp; University</th>\n",
       "      <th>Food</th>\n",
       "      <th>Nightlife Spot</th>\n",
       "      <th>Outdoors &amp; Recreation</th>\n",
       "      <th>Professional &amp; Other Places</th>\n",
       "      <th>Shop &amp; Service</th>\n",
       "      <th>Travel &amp; Transport</th>\n",
       "    </tr>\n",
       "  </thead>\n",
       "  <tbody>\n",
       "    <tr>\n",
       "      <th>72</th>\n",
       "      <td>E9</td>\n",
       "      <td>0.521318</td>\n",
       "      <td>0.0</td>\n",
       "      <td>0.612403</td>\n",
       "      <td>0.618217</td>\n",
       "      <td>0.866279</td>\n",
       "      <td>0.000000</td>\n",
       "      <td>0.476744</td>\n",
       "      <td>0.393411</td>\n",
       "    </tr>\n",
       "    <tr>\n",
       "      <th>145</th>\n",
       "      <td>N1</td>\n",
       "      <td>0.000000</td>\n",
       "      <td>0.0</td>\n",
       "      <td>0.689922</td>\n",
       "      <td>0.926357</td>\n",
       "      <td>0.542636</td>\n",
       "      <td>0.992248</td>\n",
       "      <td>0.220930</td>\n",
       "      <td>0.271318</td>\n",
       "    </tr>\n",
       "    <tr>\n",
       "      <th>232</th>\n",
       "      <td>W11</td>\n",
       "      <td>0.432171</td>\n",
       "      <td>0.0</td>\n",
       "      <td>0.701550</td>\n",
       "      <td>0.655039</td>\n",
       "      <td>0.449612</td>\n",
       "      <td>0.000000</td>\n",
       "      <td>0.759690</td>\n",
       "      <td>0.306202</td>\n",
       "    </tr>\n",
       "  </tbody>\n",
       "</table>\n",
       "</div>"
      ],
      "text/plain": [
       "    District_code  Arts & Entertainment  College & University      Food  \\\n",
       "72             E9              0.521318                   0.0  0.612403   \n",
       "145            N1              0.000000                   0.0  0.689922   \n",
       "232           W11              0.432171                   0.0  0.701550   \n",
       "\n",
       "     Nightlife Spot  Outdoors & Recreation  Professional & Other Places  \\\n",
       "72         0.618217               0.866279                     0.000000   \n",
       "145        0.926357               0.542636                     0.992248   \n",
       "232        0.655039               0.449612                     0.000000   \n",
       "\n",
       "     Shop & Service  Travel & Transport  \n",
       "72         0.476744            0.393411  \n",
       "145        0.220930            0.271318  \n",
       "232        0.759690            0.306202  "
      ]
     },
     "execution_count": 4772,
     "metadata": {},
     "output_type": "execute_result"
    }
   ],
   "source": [
    "# Filtering out the movies from the input\n",
    "user_city_data = cities_grouped[cities_grouped['District_code'].isin(input_districts['District_code'].tolist())]\n",
    "user_city_data"
   ]
  },
  {
   "cell_type": "markdown",
   "metadata": {},
   "source": [
    "## 4.3 Calculate User Profile<a name=\"Calculate_User_Profile\"></a>\n"
   ]
  },
  {
   "cell_type": "markdown",
   "metadata": {},
   "source": [
    "The user profile is represented as a vector with the weights of each venue category, e.g. Food 18, Shop & Service 7.5<br>  To obtain the weights we need to multuply the user ratings vector by the matrix containing the venue categories and weights of each district known to the user.<p>"
   ]
  },
  {
   "cell_type": "code",
   "execution_count": 4773,
   "metadata": {},
   "outputs": [],
   "source": [
    "# The user data is a result of filtering, let's reset the index first\n",
    "user_city_data = user_city_data.reset_index(drop=True)"
   ]
  },
  {
   "cell_type": "code",
   "execution_count": 4774,
   "metadata": {},
   "outputs": [
    {
     "data": {
      "text/html": [
       "<div>\n",
       "<style scoped>\n",
       "    .dataframe tbody tr th:only-of-type {\n",
       "        vertical-align: middle;\n",
       "    }\n",
       "\n",
       "    .dataframe tbody tr th {\n",
       "        vertical-align: top;\n",
       "    }\n",
       "\n",
       "    .dataframe thead th {\n",
       "        text-align: right;\n",
       "    }\n",
       "</style>\n",
       "<table border=\"1\" class=\"dataframe\">\n",
       "  <thead>\n",
       "    <tr style=\"text-align: right;\">\n",
       "      <th></th>\n",
       "      <th>Arts &amp; Entertainment</th>\n",
       "      <th>College &amp; University</th>\n",
       "      <th>Food</th>\n",
       "      <th>Nightlife Spot</th>\n",
       "      <th>Outdoors &amp; Recreation</th>\n",
       "      <th>Professional &amp; Other Places</th>\n",
       "      <th>Shop &amp; Service</th>\n",
       "      <th>Travel &amp; Transport</th>\n",
       "    </tr>\n",
       "  </thead>\n",
       "  <tbody>\n",
       "    <tr>\n",
       "      <th>0</th>\n",
       "      <td>0.521318</td>\n",
       "      <td>0.0</td>\n",
       "      <td>0.612403</td>\n",
       "      <td>0.618217</td>\n",
       "      <td>0.866279</td>\n",
       "      <td>0.000000</td>\n",
       "      <td>0.476744</td>\n",
       "      <td>0.393411</td>\n",
       "    </tr>\n",
       "    <tr>\n",
       "      <th>1</th>\n",
       "      <td>0.000000</td>\n",
       "      <td>0.0</td>\n",
       "      <td>0.689922</td>\n",
       "      <td>0.926357</td>\n",
       "      <td>0.542636</td>\n",
       "      <td>0.992248</td>\n",
       "      <td>0.220930</td>\n",
       "      <td>0.271318</td>\n",
       "    </tr>\n",
       "    <tr>\n",
       "      <th>2</th>\n",
       "      <td>0.432171</td>\n",
       "      <td>0.0</td>\n",
       "      <td>0.701550</td>\n",
       "      <td>0.655039</td>\n",
       "      <td>0.449612</td>\n",
       "      <td>0.000000</td>\n",
       "      <td>0.759690</td>\n",
       "      <td>0.306202</td>\n",
       "    </tr>\n",
       "  </tbody>\n",
       "</table>\n",
       "</div>"
      ],
      "text/plain": [
       "   Arts & Entertainment  College & University      Food  Nightlife Spot  \\\n",
       "0              0.521318                   0.0  0.612403        0.618217   \n",
       "1              0.000000                   0.0  0.689922        0.926357   \n",
       "2              0.432171                   0.0  0.701550        0.655039   \n",
       "\n",
       "   Outdoors & Recreation  Professional & Other Places  Shop & Service  \\\n",
       "0               0.866279                     0.000000        0.476744   \n",
       "1               0.542636                     0.992248        0.220930   \n",
       "2               0.449612                     0.000000        0.759690   \n",
       "\n",
       "   Travel & Transport  \n",
       "0            0.393411  \n",
       "1            0.271318  \n",
       "2            0.306202  "
      ]
     },
     "execution_count": 4774,
     "metadata": {},
     "output_type": "execute_result"
    }
   ],
   "source": [
    "# Before the multiplication we'll drop any column that doesn't contain weights\n",
    "user_categories = user_city_data.drop('District_code', 1)\n",
    "user_categories"
   ]
  },
  {
   "cell_type": "markdown",
   "metadata": {},
   "source": [
    "We multiply the ratings to the categories table and then sum up the resulting table by column.<br>\n",
    "This operation is actually a dot product between a matrix and a vector."
   ]
  },
  {
   "cell_type": "code",
   "execution_count": 4775,
   "metadata": {},
   "outputs": [
    {
     "data": {
      "text/plain": [
       "Arts & Entertainment           3.985465\n",
       "College & University           0.000000\n",
       "Food                           8.410853\n",
       "Nightlife Spot                 9.144380\n",
       "Outdoors & Recreation          7.450581\n",
       "Professional & Other Places    3.968992\n",
       "Shop & Service                 6.350775\n",
       "Travel & Transport             3.993217\n",
       "dtype: float64"
      ]
     },
     "execution_count": 4775,
     "metadata": {},
     "output_type": "execute_result"
    }
   ],
   "source": [
    "# Calculate a dot product to get weights\n",
    "user_profile = user_categories.transpose().dot(input_districts['rating'])\n",
    "\n",
    "# Let's see the user profile, with the strongest determinants first\n",
    "user_profile"
   ]
  },
  {
   "cell_type": "markdown",
   "metadata": {},
   "source": [
    "## 4.4 Assign Score to Each District<a name=\"Assign_Score_To_Each_District\"></a>"
   ]
  },
  {
   "cell_type": "markdown",
   "metadata": {},
   "source": [
    "To arrive at a single number for each district, we'll calculate a __weighted average__: the weights corresponding to venue categories of each district will be multiplied by the weight of the user's preference for each category.\n",
    "<br>\n",
    "At this point we'll also use the __destination city__ parameter, no need to predict preference values applicable to districts of other cities."
   ]
  },
  {
   "cell_type": "code",
   "execution_count": 4776,
   "metadata": {
    "scrolled": true
   },
   "outputs": [
    {
     "data": {
      "text/html": [
       "<div>\n",
       "<style scoped>\n",
       "    .dataframe tbody tr th:only-of-type {\n",
       "        vertical-align: middle;\n",
       "    }\n",
       "\n",
       "    .dataframe tbody tr th {\n",
       "        vertical-align: top;\n",
       "    }\n",
       "\n",
       "    .dataframe thead th {\n",
       "        text-align: right;\n",
       "    }\n",
       "</style>\n",
       "<table border=\"1\" class=\"dataframe\">\n",
       "  <thead>\n",
       "    <tr style=\"text-align: right;\">\n",
       "      <th></th>\n",
       "      <th>Arts &amp; Entertainment</th>\n",
       "      <th>College &amp; University</th>\n",
       "      <th>Food</th>\n",
       "      <th>Nightlife Spot</th>\n",
       "      <th>Outdoors &amp; Recreation</th>\n",
       "      <th>Professional &amp; Other Places</th>\n",
       "      <th>Shop &amp; Service</th>\n",
       "      <th>Travel &amp; Transport</th>\n",
       "    </tr>\n",
       "    <tr>\n",
       "      <th>District_code</th>\n",
       "      <th></th>\n",
       "      <th></th>\n",
       "      <th></th>\n",
       "      <th></th>\n",
       "      <th></th>\n",
       "      <th></th>\n",
       "      <th></th>\n",
       "      <th></th>\n",
       "    </tr>\n",
       "  </thead>\n",
       "  <tbody>\n",
       "    <tr>\n",
       "      <th>1000-1499</th>\n",
       "      <td>0.916667</td>\n",
       "      <td>0.0</td>\n",
       "      <td>0.494186</td>\n",
       "      <td>0.451550</td>\n",
       "      <td>0.300388</td>\n",
       "      <td>0.000000</td>\n",
       "      <td>0.362403</td>\n",
       "      <td>0.527132</td>\n",
       "    </tr>\n",
       "    <tr>\n",
       "      <th>1500-1799</th>\n",
       "      <td>0.000000</td>\n",
       "      <td>0.0</td>\n",
       "      <td>0.742248</td>\n",
       "      <td>0.284884</td>\n",
       "      <td>0.798450</td>\n",
       "      <td>0.000000</td>\n",
       "      <td>0.207364</td>\n",
       "      <td>0.860465</td>\n",
       "    </tr>\n",
       "    <tr>\n",
       "      <th>1800-1999</th>\n",
       "      <td>0.916667</td>\n",
       "      <td>0.0</td>\n",
       "      <td>0.494186</td>\n",
       "      <td>0.451550</td>\n",
       "      <td>0.300388</td>\n",
       "      <td>0.000000</td>\n",
       "      <td>0.362403</td>\n",
       "      <td>0.527132</td>\n",
       "    </tr>\n",
       "    <tr>\n",
       "      <th>2000</th>\n",
       "      <td>0.000000</td>\n",
       "      <td>0.0</td>\n",
       "      <td>0.368217</td>\n",
       "      <td>0.228682</td>\n",
       "      <td>0.835271</td>\n",
       "      <td>0.000000</td>\n",
       "      <td>0.841085</td>\n",
       "      <td>0.612403</td>\n",
       "    </tr>\n",
       "    <tr>\n",
       "      <th>2100</th>\n",
       "      <td>0.732558</td>\n",
       "      <td>0.0</td>\n",
       "      <td>0.304264</td>\n",
       "      <td>0.217054</td>\n",
       "      <td>0.883721</td>\n",
       "      <td>0.000000</td>\n",
       "      <td>0.740310</td>\n",
       "      <td>0.000000</td>\n",
       "    </tr>\n",
       "    <tr>\n",
       "      <th>2150</th>\n",
       "      <td>0.000000</td>\n",
       "      <td>0.0</td>\n",
       "      <td>0.000000</td>\n",
       "      <td>0.000000</td>\n",
       "      <td>0.951550</td>\n",
       "      <td>0.000000</td>\n",
       "      <td>0.000000</td>\n",
       "      <td>1.000000</td>\n",
       "    </tr>\n",
       "    <tr>\n",
       "      <th>2200</th>\n",
       "      <td>0.364341</td>\n",
       "      <td>0.0</td>\n",
       "      <td>0.608527</td>\n",
       "      <td>0.676357</td>\n",
       "      <td>0.819767</td>\n",
       "      <td>0.806202</td>\n",
       "      <td>0.689922</td>\n",
       "      <td>0.000000</td>\n",
       "    </tr>\n",
       "  </tbody>\n",
       "</table>\n",
       "</div>"
      ],
      "text/plain": [
       "               Arts & Entertainment  College & University      Food  \\\n",
       "District_code                                                         \n",
       "1000-1499                  0.916667                   0.0  0.494186   \n",
       "1500-1799                  0.000000                   0.0  0.742248   \n",
       "1800-1999                  0.916667                   0.0  0.494186   \n",
       "2000                       0.000000                   0.0  0.368217   \n",
       "2100                       0.732558                   0.0  0.304264   \n",
       "2150                       0.000000                   0.0  0.000000   \n",
       "2200                       0.364341                   0.0  0.608527   \n",
       "\n",
       "               Nightlife Spot  Outdoors & Recreation  \\\n",
       "District_code                                          \n",
       "1000-1499            0.451550               0.300388   \n",
       "1500-1799            0.284884               0.798450   \n",
       "1800-1999            0.451550               0.300388   \n",
       "2000                 0.228682               0.835271   \n",
       "2100                 0.217054               0.883721   \n",
       "2150                 0.000000               0.951550   \n",
       "2200                 0.676357               0.819767   \n",
       "\n",
       "               Professional & Other Places  Shop & Service  Travel & Transport  \n",
       "District_code                                                                   \n",
       "1000-1499                         0.000000        0.362403            0.527132  \n",
       "1500-1799                         0.000000        0.207364            0.860465  \n",
       "1800-1999                         0.000000        0.362403            0.527132  \n",
       "2000                              0.000000        0.841085            0.612403  \n",
       "2100                              0.000000        0.740310            0.000000  \n",
       "2150                              0.000000        0.000000            1.000000  \n",
       "2200                              0.806202        0.689922            0.000000  "
      ]
     },
     "execution_count": 4776,
     "metadata": {},
     "output_type": "execute_result"
    }
   ],
   "source": [
    "# Get the district codes that are of interest to the user, i.e. filtered by the \"Destination City\" index\n",
    "destination_districts = cities_df['District_code'].loc[input_destination_city]\n",
    "\n",
    "# Let's get the venue category data of the districts that interest us\n",
    "#venue_categories_table = cities_grouped.set_index(cities_df['District_code'])\n",
    "venue_categories_table = \\\n",
    "   cities_grouped[cities_grouped['District_code'].isin(destination_districts)].set_index(destination_districts)\n",
    "\n",
    "# Drop unnecessary information before multiplying\n",
    "venue_categories_table = venue_categories_table.drop('District_code', 1)\n",
    "venue_categories_table.head(7)"
   ]
  },
  {
   "cell_type": "code",
   "execution_count": 4777,
   "metadata": {},
   "outputs": [
    {
     "data": {
      "text/plain": [
       "(51, 8)"
      ]
     },
     "execution_count": 4777,
     "metadata": {},
     "output_type": "execute_result"
    }
   ],
   "source": [
    "venue_categories_table.shape"
   ]
  },
  {
   "cell_type": "markdown",
   "metadata": {},
   "source": [
    "We'll calculate the weighted average of every district"
   ]
  },
  {
   "cell_type": "code",
   "execution_count": 4778,
   "metadata": {},
   "outputs": [
    {
     "data": {
      "text/plain": [
       "District_code\n",
       "1000-1499    0.429140\n",
       "1500-1799    0.451454\n",
       "1800-1999    0.429140\n",
       "2000         0.443338\n",
       "2100         0.432967\n",
       "dtype: float64"
      ]
     },
     "execution_count": 4778,
     "metadata": {},
     "output_type": "execute_result"
    }
   ],
   "source": [
    "# Multiply the categories by the weights and then take the weighted average\n",
    "recommendation_table = ((venue_categories_table*user_profile).sum(axis=1))/(user_profile.sum())\n",
    "recommendation_table.head(5)"
   ]
  },
  {
   "cell_type": "markdown",
   "metadata": {},
   "source": [
    "## 4.5 Propose Best Recommendation<a name=\"Propose_Best_Recommendation\"></a>"
   ]
  },
  {
   "cell_type": "markdown",
   "metadata": {},
   "source": [
    "Sort recommendation table in descending order, put results in a dataframe"
   ]
  },
  {
   "cell_type": "code",
   "execution_count": 4824,
   "metadata": {
    "scrolled": true
   },
   "outputs": [
    {
     "data": {
      "text/html": [
       "<div>\n",
       "<style scoped>\n",
       "    .dataframe tbody tr th:only-of-type {\n",
       "        vertical-align: middle;\n",
       "    }\n",
       "\n",
       "    .dataframe tbody tr th {\n",
       "        vertical-align: top;\n",
       "    }\n",
       "\n",
       "    .dataframe thead th {\n",
       "        text-align: right;\n",
       "    }\n",
       "</style>\n",
       "<table border=\"1\" class=\"dataframe\">\n",
       "  <thead>\n",
       "    <tr style=\"text-align: right;\">\n",
       "      <th></th>\n",
       "      <th>District_code</th>\n",
       "      <th>District_name</th>\n",
       "      <th>Score</th>\n",
       "      <th>Latitude</th>\n",
       "      <th>Longitude</th>\n",
       "    </tr>\n",
       "  </thead>\n",
       "  <tbody>\n",
       "    <tr>\n",
       "      <th>0</th>\n",
       "      <td>2200</td>\n",
       "      <td>Copenhagen N</td>\n",
       "      <td>0.610662</td>\n",
       "      <td>55.696715</td>\n",
       "      <td>12.543886</td>\n",
       "    </tr>\n",
       "    <tr>\n",
       "      <th>1</th>\n",
       "      <td>2400</td>\n",
       "      <td>Copenhagen NV</td>\n",
       "      <td>0.546174</td>\n",
       "      <td>55.709575</td>\n",
       "      <td>12.528592</td>\n",
       "    </tr>\n",
       "    <tr>\n",
       "      <th>2</th>\n",
       "      <td>1500-1799</td>\n",
       "      <td>Copenhagen V</td>\n",
       "      <td>0.451454</td>\n",
       "      <td>55.666450</td>\n",
       "      <td>12.533538</td>\n",
       "    </tr>\n",
       "    <tr>\n",
       "      <th>3</th>\n",
       "      <td>2000</td>\n",
       "      <td>Frederiksberg</td>\n",
       "      <td>0.443338</td>\n",
       "      <td>55.670400</td>\n",
       "      <td>12.511796</td>\n",
       "    </tr>\n",
       "    <tr>\n",
       "      <th>4</th>\n",
       "      <td>2100</td>\n",
       "      <td>Copenhagen Ø</td>\n",
       "      <td>0.432967</td>\n",
       "      <td>55.705645</td>\n",
       "      <td>12.572474</td>\n",
       "    </tr>\n",
       "  </tbody>\n",
       "</table>\n",
       "</div>"
      ],
      "text/plain": [
       "  District_code  District_name     Score   Latitude  Longitude\n",
       "0          2200   Copenhagen N  0.610662  55.696715  12.543886\n",
       "1          2400  Copenhagen NV  0.546174  55.709575  12.528592\n",
       "2     1500-1799   Copenhagen V  0.451454  55.666450  12.533538\n",
       "3          2000  Frederiksberg  0.443338  55.670400  12.511796\n",
       "4          2100   Copenhagen Ø  0.432967  55.705645  12.572474"
      ]
     },
     "execution_count": 4824,
     "metadata": {},
     "output_type": "execute_result"
    }
   ],
   "source": [
    "# Sort with highest score first\n",
    "recommendation_table = recommendation_table.sort_values(ascending=False)\n",
    "rec_df = pd.DataFrame({'District_code':recommendation_table.index, 'Score':recommendation_table.values})\n",
    "\n",
    "# Get district names from the full dataset (order is by District code)\n",
    "destination_district_names = cities_df.loc[input_destination_city].set_index('District_code')['District_name']\n",
    "destination_lats = cities_df.loc[input_destination_city].set_index('District_code')['Latitude']\n",
    "destination_longs = cities_df.loc[input_destination_city].set_index('District_code')['Longitude']\n",
    "\n",
    "# Match names to the recommendations dataframe\n",
    "rec_names = destination_district_names.loc[rec_df['District_code']]\n",
    "rec_lats = destination_lats.loc[rec_df['District_code']]\n",
    "rec_longs = destination_longs.loc[rec_df['District_code']]\n",
    "\n",
    "# Put district name in the recommendations; use insert() to leave score as the last column\n",
    "rec_df.insert(1, 'District_name', rec_names.values)\n",
    "rec_df.insert(3, 'Latitude', rec_lats.values)\n",
    "rec_df.insert(4, 'Longitude', rec_longs.values)\n",
    "\n",
    "rec_df.head(5)"
   ]
  },
  {
   "cell_type": "markdown",
   "metadata": {},
   "source": [
    "The final output shown to the user will be better understood if it contains the district name"
   ]
  },
  {
   "cell_type": "markdown",
   "metadata": {},
   "source": [
    "### 4.5.1 Show recommendation on a map\n",
    "The above is the final recommendation table to be shown in the District Recommender app.<br>\n",
    "We'll probably want to show these results also in a map."
   ]
  },
  {
   "cell_type": "code",
   "execution_count": 4789,
   "metadata": {},
   "outputs": [
    {
     "name": "stdout",
     "output_type": "stream",
     "text": [
      "Copenhagen, Denmark  returned lat = 55.67567000000008\n"
     ]
    }
   ],
   "source": [
    "# Setup data for the map\n",
    "input_dest_city_country = \"Copenhagen, Denmark\"\n",
    "\n",
    "g = geocoder.arcgis('{}'.format(input_dest_city_country))\n",
    "lat_lng_coords = g.latlng\n",
    "latitude = lat_lng_coords[0]\n",
    "longitude = lat_lng_coords[1]"
   ]
  },
  {
   "cell_type": "code",
   "execution_count": 4862,
   "metadata": {},
   "outputs": [],
   "source": [
    "#!conda install -c conda-forge folium=0.5.0 --yes\n",
    "import folium\n",
    "# create map and display it\n",
    "destination_map = folium.Map(location=[latitude, longitude], zoom_start=12)"
   ]
  },
  {
   "cell_type": "code",
   "execution_count": 4864,
   "metadata": {
    "scrolled": false
   },
   "outputs": [
    {
     "data": {
      "text/html": [
       "<div style=\"width:100%;\"><div style=\"position:relative;width:100%;height:0;padding-bottom:60%;\"><span style=\"color:#565656\">Make this Notebook Trusted to load map: File -> Trust Notebook</span><iframe src=\"about:blank\" style=\"position:absolute;width:100%;height:100%;left:0;top:0;border:none !important;\" data-html=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 onload=\"this.contentDocument.open();this.contentDocument.write(atob(this.getAttribute('data-html')));this.contentDocument.close();\" allowfullscreen webkitallowfullscreen mozallowfullscreen></iframe></div></div>"
      ],
      "text/plain": [
       "<folium.folium.Map at 0x7f9e2ae98d10>"
      ]
     },
     "execution_count": 4864,
     "metadata": {},
     "output_type": "execute_result"
    }
   ],
   "source": [
    "# instantiate a feature group for the incidents in the dataframe\n",
    "rec_districts = folium.map.FeatureGroup()\n",
    "\n",
    "# loop through the first 5 recommendations and add each to the feature group\n",
    "for index, row in rec_df.head(5).iterrows():\n",
    "    name = row['District_name']\n",
    "    score = row['Score']\n",
    "    label_text = \"%s, score: %s\" % (name, str(round(score, 2)))\n",
    "    lx = row['Latitude']\n",
    "    ly = row['Longitude']\n",
    "    \n",
    "    rec_districts.add_child(\n",
    "        folium.features.CircleMarker(\n",
    "            [lx, ly],\n",
    "            radius=5, # size of circle markers\n",
    "            color='yellow',\n",
    "            fill=True,\n",
    "            fill_color='blue',\n",
    "            fill_opacity=0.8\n",
    "        )\n",
    "    )\n",
    "    folium.Marker([lx, ly], popup=label_text).add_to(destination_map)\n",
    "\n",
    "# add recommendations to map\n",
    "destination_map.add_child(rec_districts)"
   ]
  },
  {
   "cell_type": "markdown",
   "metadata": {},
   "source": [
    "# 5. Results<a name=\"Results\"></a>"
   ]
  },
  {
   "cell_type": "markdown",
   "metadata": {},
   "source": [
    "## 5.1 The Process Followed<a name=\"The_Process_Followed\"></a>\n",
    "The work that was performed had two main stages, Data collection and Data Analysis.<p>\n",
    "During the Data Collection phase:\n",
    "1. Scraping of Web pages (Wikipedia) to obtain data related to the postcode districts of 3 major European cities: London, Copenhage and Glasgow.\n",
    "2. Geocoding of the districts and then use of the georeferencing information to query the Foursquare API about the venues present in each district.\n",
    "3. Query of the Foursquare API to obtain the full hierarchy of categories in JSON format. Use of the hierarchy to add a new attribute to each venue, called High-Level Venue Category.\n",
    "4. Collection of the user's preferences: the destination city was Copenhagen, Denmark, while the lifestyle preferences were declared as three neighborhoods with associated ratings: Hackney, Islington and Notting Hill."
   ]
  },
  {
   "cell_type": "markdown",
   "metadata": {},
   "source": [
    "During the Data Analysis phase:\n",
    "1. The data on High-Level venue Categories was transformed via one-hot encoding \n",
    "2. Each column was grouped by District, using the mean() value\n",
    "3. The mean() value was not appropriate to use in recommendations, one more transformation was necessary. After some experimentation, each column was scaled using a Quantile Transformer (for more details, see the Project Report)\n",
    "4. This grouped and transformed data on \"Venue categories per district\", is representative of the profile of each neighborhood. It is the full set of \"district profiles\" in terms of number and types of venues present.\n",
    "5. The subset of this data related to user preferences was extracted and multiplied to user ratings, to calculate the User Profile, a vector of venue categories and numbers. It was of the form:\n",
    "\n",
    "\n",
    "| High Level Venue Category | Score  |\n",
    "| --- | --- |\n",
    "|Arts & Entertainment           |3.985465|\n",
    "|Food                           |8.410853|\n",
    "|Nightlife Spot                 |9.144380|\n",
    "|...          |...|\n",
    "\n",
    "6. The rows related to the destination city were extracted from the district profiles, and multiplied by the numerical user profile of the previous step, to obtain a numerical score for each district. The formula is \n",
    "    District_score = District_numeric_profile * User_numeric_profile\n",
    "7. The top 5 recommendations were displayed on a map, the markers are clickable and display the name of each district and the associated score."
   ]
  },
  {
   "cell_type": "markdown",
   "metadata": {},
   "source": [
    "## 5.2 Assessment of results<a name=\"Assessment_Of_Results\"></a>\n",
    "The recommendations produced by the algorithm were credible. The user expressed preferences in terms of 3 London neighborhoods: Hackney, Islington and Notting Hill, that can roughly be associated to the \"trendy / hipster\" category.<p>\n",
    "The District Recommender suggested the areas of Copenhagen North, North-West, West, East and of Federiksberg. These are the central / semi-central boroughs of the city with many venues for Food, Art, Shops and Recreational activities, the names of Nørrebro, Vesterbro, Østerbro are well known internationally.<p>\n",
    "The Project Report and presentation will contain the results of the Recommender under different inputs."
   ]
  },
  {
   "cell_type": "markdown",
   "metadata": {},
   "source": [
    "# 6. Discussion<a name=\"Discussion\"></a>\n",
    "A recommender using venues and locations presents some difficulties in the handling of the numerical values that represent the profile of each district. How much importance should we give to the existence of one or dozens of venues of the same type? Is it sufficient to mark \"at least one venue exists\", or should we differentiate districts by a higher degree based on the number of similar venues? Experiments with different scaling methods produced drastically different results.<p>\n",
    "An improved approach in the future should integrate additional data on property prices. This is one aspect of the profile of each district that is not well represented in the venue profile obtained by Foursquare. Even down to the detail of \"Italian Restaurant\", there can be many price points and types of neighborhoods. Unfortunately price data were not easy to find outside England. Even if not available, a proxy could be used, such as hotel room prices for each area, given sufficient time to write programs and obtain the data.\n"
   ]
  },
  {
   "cell_type": "markdown",
   "metadata": {},
   "source": [
    "# 7. Conclusion"
   ]
  },
  {
   "cell_type": "markdown",
   "metadata": {},
   "source": [
    "The Content-Based Recommender of this notebook follows a well-known basic approach that can produce results based only on a user's preferences. It can be customised in detail, the user can select which categories to use for comparison and whether to use a category that is located at the bottom, at mid-level or top-level of the hierarchy.<p>\n",
    "The system produces basic recommendations that are credible and not out of sync with reality, although somewhat \"large-grained\". To improve the algorithm's accuracy, more data sources should be integrated and more advanced algorithms should be implemented, following the advances of specific research on the topic of Recommenders published in journals and discussed  at international conferences."
   ]
  },
  {
   "cell_type": "code",
   "execution_count": null,
   "metadata": {},
   "outputs": [],
   "source": []
  }
 ],
 "metadata": {
  "kernelspec": {
   "display_name": "Python 3",
   "language": "python",
   "name": "python3"
  },
  "language_info": {
   "codemirror_mode": {
    "name": "ipython",
    "version": 3
   },
   "file_extension": ".py",
   "mimetype": "text/x-python",
   "name": "python",
   "nbconvert_exporter": "python",
   "pygments_lexer": "ipython3",
   "version": "3.7.6"
  }
 },
 "nbformat": 4,
 "nbformat_minor": 4
}
