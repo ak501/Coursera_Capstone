{
 "cells": [
  {
   "cell_type": "markdown",
   "metadata": {},
   "source": [
    "# Create Neightbourhood Dataframe\n",
    "## Capstone project, Week 3 Notebook 1"
   ]
  },
  {
   "cell_type": "code",
   "execution_count": 75,
   "metadata": {},
   "outputs": [],
   "source": [
    "# Get the latest version of BeautifulSoup; use XML parser for speed\n",
    "#!pip install beautifulsoup4\n",
    "import pandas as pd\n",
    "from bs4 import BeautifulSoup\n",
    "from lxml import html\n",
    "import requests"
   ]
  },
  {
   "cell_type": "markdown",
   "metadata": {},
   "source": [
    "### Get the data\n",
    "Read the wikipedia page using BeautifoulSoup"
   ]
  },
  {
   "cell_type": "code",
   "execution_count": null,
   "metadata": {},
   "outputs": [],
   "source": [
    "# if we don't submit a User-Agent header, the connection is refused by the server\n",
    "headers={\n",
    "'User-Agent': 'Mozilla/5.0 (Macintosh; Intel Mac OS X 10_15_0) AppleWebKit/537.36 (KHTML, like Gecko) Chrome/75.0.3770.142 Safari/537.36'\n",
    "}\n",
    "\n",
    "# The list of postal codes in Canada where the first letter is M\n",
    "url=\"https://en.wikipedia.org/wiki/List_of_postal_codes_of_Canada:_M\"\n",
    "\n",
    "# Make a GET request to fetch the raw HTML content\n",
    "html_content = requests.get(url).text\n",
    "\n",
    "# Parse the html content\n",
    "soup = BeautifulSoup(html_content, \"lxml\")\n",
    "# print(soup.prettify()) # print the parsed data of html"
   ]
  },
  {
   "cell_type": "markdown",
   "metadata": {},
   "source": [
    "### Get HTML table\n",
    "Get the HTML elements that interest us"
   ]
  },
  {
   "cell_type": "code",
   "execution_count": 31,
   "metadata": {
    "scrolled": true
   },
   "outputs": [
    {
     "data": {
      "text/plain": [
       "[<tr>\n",
       " <th>Postal Code\n",
       " </th>\n",
       " <th>Borough\n",
       " </th>\n",
       " <th>Neighborhood\n",
       " </th></tr>,\n",
       " <tr>\n",
       " <td>M1A\n",
       " </td>\n",
       " <td>Not assigned\n",
       " </td>\n",
       " <td>\n",
       " </td></tr>]"
      ]
     },
     "execution_count": 31,
     "metadata": {},
     "output_type": "execute_result"
    }
   ],
   "source": [
    "# The content we want is in tr elements inside a tbody tag \n",
    "# We must select only the tr's inside the tbody, avoid the extra tr's after that\n",
    "html_table = soup.tbody\n",
    "html_rows = html_table.find_all('tr')\n",
    "html_rows[0:2]"
   ]
  },
  {
   "cell_type": "markdown",
   "metadata": {},
   "source": [
    "### Convert HTML table into dictionary\n",
    "Create a dictionary for each table row, of the form {'Postal Code': '', 'Borough': '', 'Neighborhood': ''}\n",
    "This will prove useful when we want to use logic to exclude records, change values etc."
   ]
  },
  {
   "cell_type": "code",
   "execution_count": 129,
   "metadata": {},
   "outputs": [
    {
     "data": {
      "text/plain": [
       "[{'Postal Code': 'M3A', 'Borough': 'North York', 'Neighborhood': 'Parkwoods'},\n",
       " {'Postal Code': 'M4A',\n",
       "  'Borough': 'North York',\n",
       "  'Neighborhood': 'Victoria Village'},\n",
       " {'Postal Code': 'M5A',\n",
       "  'Borough': 'Downtown Toronto',\n",
       "  'Neighborhood': 'Regent Park, Harbourfront'}]"
      ]
     },
     "execution_count": 129,
     "metadata": {},
     "output_type": "execute_result"
    }
   ],
   "source": [
    "# table header, remove newlines before extracting \n",
    "table_header = []\n",
    "for th in html_rows[0].find_all('th'):\n",
    "    table_header.append(th.text.replace('\\n', ' ').strip())\n",
    "\n",
    "table_data = []\n",
    "for tr in html_rows:\n",
    "    t_row = {}\n",
    "    # Each table row is stored in the form of t_row = {'Postal Code': '', 'Borough': '', 'Neighborhood': ''}\n",
    "    for td, th in zip(tr.find_all(\"td\"), table_header):\n",
    "        cell = td.text.replace('\\n', '')\n",
    "        t_row[th] = cell \n",
    "    \n",
    "    # skip the first empty row\n",
    "    if not t_row:\n",
    "        continue\n",
    "        \n",
    "    # add to the dataset only if the Borough is not assigned\n",
    "    if (t_row['Borough'] != 'Not assigned'):\n",
    "        table_data.append(t_row)\n",
    "        \n",
    "    # If a cell has a borough but a Not assigned neighborhood, then the neighborhood will be the\n",
    "    # same as the borough. Today there is no data on the page that fits this rule, let's implement it anyway\n",
    "    if (t_row['Borough'] != 'Not assigned' and t_row['Neighborhood'] == ''):\n",
    "        t_row['Neighborhood'] = t_row['Borough']\n",
    "        \n",
    "table_data[0:3]"
   ]
  },
  {
   "cell_type": "markdown",
   "metadata": {},
   "source": [
    "### Put into a dataframe"
   ]
  },
  {
   "cell_type": "code",
   "execution_count": 130,
   "metadata": {},
   "outputs": [
    {
     "data": {
      "text/html": [
       "<div>\n",
       "<style scoped>\n",
       "    .dataframe tbody tr th:only-of-type {\n",
       "        vertical-align: middle;\n",
       "    }\n",
       "\n",
       "    .dataframe tbody tr th {\n",
       "        vertical-align: top;\n",
       "    }\n",
       "\n",
       "    .dataframe thead th {\n",
       "        text-align: right;\n",
       "    }\n",
       "</style>\n",
       "<table border=\"1\" class=\"dataframe\">\n",
       "  <thead>\n",
       "    <tr style=\"text-align: right;\">\n",
       "      <th></th>\n",
       "      <th>Postal Code</th>\n",
       "      <th>Borough</th>\n",
       "      <th>Neighborhood</th>\n",
       "    </tr>\n",
       "  </thead>\n",
       "  <tbody>\n",
       "    <tr>\n",
       "      <th>0</th>\n",
       "      <td>M3A</td>\n",
       "      <td>North York</td>\n",
       "      <td>Parkwoods</td>\n",
       "    </tr>\n",
       "    <tr>\n",
       "      <th>1</th>\n",
       "      <td>M4A</td>\n",
       "      <td>North York</td>\n",
       "      <td>Victoria Village</td>\n",
       "    </tr>\n",
       "    <tr>\n",
       "      <th>2</th>\n",
       "      <td>M5A</td>\n",
       "      <td>Downtown Toronto</td>\n",
       "      <td>Regent Park, Harbourfront</td>\n",
       "    </tr>\n",
       "    <tr>\n",
       "      <th>3</th>\n",
       "      <td>M6A</td>\n",
       "      <td>North York</td>\n",
       "      <td>Lawrence Manor, Lawrence Heights</td>\n",
       "    </tr>\n",
       "    <tr>\n",
       "      <th>4</th>\n",
       "      <td>M7A</td>\n",
       "      <td>Downtown Toronto</td>\n",
       "      <td>Queen's Park, Ontario Provincial Government</td>\n",
       "    </tr>\n",
       "  </tbody>\n",
       "</table>\n",
       "</div>"
      ],
      "text/plain": [
       "  Postal Code           Borough                                 Neighborhood\n",
       "0         M3A        North York                                    Parkwoods\n",
       "1         M4A        North York                             Victoria Village\n",
       "2         M5A  Downtown Toronto                    Regent Park, Harbourfront\n",
       "3         M6A        North York             Lawrence Manor, Lawrence Heights\n",
       "4         M7A  Downtown Toronto  Queen's Park, Ontario Provincial Government"
      ]
     },
     "execution_count": 130,
     "metadata": {},
     "output_type": "execute_result"
    }
   ],
   "source": [
    "df = pd.DataFrame(table_data)\n",
    "df.head()"
   ]
  },
  {
   "cell_type": "code",
   "execution_count": 131,
   "metadata": {},
   "outputs": [
    {
     "data": {
      "text/plain": [
       "(103, 3)"
      ]
     },
     "execution_count": 131,
     "metadata": {},
     "output_type": "execute_result"
    }
   ],
   "source": [
    "# Check the number of records\n",
    "df.shape"
   ]
  },
  {
   "cell_type": "code",
   "execution_count": null,
   "metadata": {},
   "outputs": [],
   "source": []
  }
 ],
 "metadata": {
  "kernelspec": {
   "display_name": "Python 3",
   "language": "python",
   "name": "python3"
  },
  "language_info": {
   "codemirror_mode": {
    "name": "ipython",
    "version": 3
   },
   "file_extension": ".py",
   "mimetype": "text/x-python",
   "name": "python",
   "nbconvert_exporter": "python",
   "pygments_lexer": "ipython3",
   "version": "3.7.6"
  }
 },
 "nbformat": 4,
 "nbformat_minor": 4
}
